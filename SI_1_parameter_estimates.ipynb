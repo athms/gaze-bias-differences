{
 "cells": [
  {
   "cell_type": "code",
   "execution_count": 1,
   "metadata": {
    "collapsed": true
   },
   "outputs": [],
   "source": [
    "import os\n",
    "from os.path import join\n",
    "\n",
    "import numpy as np\n",
    "import pandas as pd\n",
    "from scipy.stats import linregress\n",
    "\n",
    "import matplotlib.pyplot as plt\n",
    "%matplotlib inline\n",
    "\n",
    "from plotting_functions import cm2inch"
   ]
  },
  {
   "cell_type": "markdown",
   "metadata": {},
   "source": [
    "# Estimates"
   ]
  },
  {
   "cell_type": "markdown",
   "metadata": {},
   "source": [
    "### Load individual estimates (in sample fits)"
   ]
  },
  {
   "cell_type": "markdown",
   "metadata": {},
   "source": [
    "multiplicative"
   ]
  },
  {
   "cell_type": "code",
   "execution_count": 2,
   "metadata": {
    "collapsed": true
   },
   "outputs": [],
   "source": [
    "parameters = ['v', 'gamma', 's', 'tau']\n",
    "\n",
    "estimates_list = []\n",
    "\n",
    "estimate_files = [file for file in os.listdir(join('results', 'estimates', 'in_sample', 'GLAM'))\n",
    "                  if file.endswith('.csv')]\n",
    "\n",
    "for file in estimate_files:\n",
    "    _, subject, _, _ = file.split('_')\n",
    "    subject = int(subject)\n",
    "    estimates = pd.read_csv(join('results', 'estimates', 'in_sample', 'GLAM', file), index_col=0)\n",
    "    subject_estimates = {parameter: estimates.loc[parameter + '__0_0', 'MAP']\n",
    "                         for parameter in parameters}\n",
    "    subject_estimates['subject'] = subject\n",
    "    estimates_list.append(pd.DataFrame(subject_estimates, index=np.zeros(1)))\n",
    "\n",
    "individual_estimates = pd.concat(estimates_list).sort_values('subject').reset_index(drop=True)\n",
    "\n",
    "individual_estimates['dataset'] = np.array(39 * ['krajbich2010'] + 30 * ['krajbich2011'] + 24 * ['folke2016'] + 25 * ['tavares2017'])"
   ]
  },
  {
   "cell_type": "markdown",
   "metadata": {},
   "source": [
    "# Gamma estimates"
   ]
  },
  {
   "cell_type": "code",
   "execution_count": 3,
   "metadata": {
    "collapsed": false
   },
   "outputs": [
    {
     "data": {
      "text/plain": [
       "count    118.000000\n",
       "mean       0.145932\n",
       "std        0.394087\n",
       "min       -1.030000\n",
       "25%       -0.122500\n",
       "50%        0.125000\n",
       "75%        0.407500\n",
       "max        0.970000\n",
       "Name: gamma, dtype: float64"
      ]
     },
     "execution_count": 3,
     "metadata": {},
     "output_type": "execute_result"
    }
   ],
   "source": [
    "individual_estimates['gamma'].describe()"
   ]
  },
  {
   "cell_type": "code",
   "execution_count": 4,
   "metadata": {
    "collapsed": false
   },
   "outputs": [
    {
     "data": {
      "text/html": [
       "<div>\n",
       "<style scoped>\n",
       "    .dataframe tbody tr th:only-of-type {\n",
       "        vertical-align: middle;\n",
       "    }\n",
       "\n",
       "    .dataframe tbody tr th {\n",
       "        vertical-align: top;\n",
       "    }\n",
       "\n",
       "    .dataframe thead th {\n",
       "        text-align: right;\n",
       "    }\n",
       "</style>\n",
       "<table border=\"1\" class=\"dataframe\">\n",
       "  <thead>\n",
       "    <tr style=\"text-align: right;\">\n",
       "      <th></th>\n",
       "      <th>count</th>\n",
       "      <th>mean</th>\n",
       "      <th>std</th>\n",
       "      <th>min</th>\n",
       "      <th>25%</th>\n",
       "      <th>50%</th>\n",
       "      <th>75%</th>\n",
       "      <th>max</th>\n",
       "    </tr>\n",
       "    <tr>\n",
       "      <th>dataset</th>\n",
       "      <th></th>\n",
       "      <th></th>\n",
       "      <th></th>\n",
       "      <th></th>\n",
       "      <th></th>\n",
       "      <th></th>\n",
       "      <th></th>\n",
       "      <th></th>\n",
       "    </tr>\n",
       "  </thead>\n",
       "  <tbody>\n",
       "    <tr>\n",
       "      <th>folke2016</th>\n",
       "      <td>24.0</td>\n",
       "      <td>-0.017083</td>\n",
       "      <td>0.282804</td>\n",
       "      <td>-0.50</td>\n",
       "      <td>-0.25</td>\n",
       "      <td>-0.025</td>\n",
       "      <td>0.2075</td>\n",
       "      <td>0.46</td>\n",
       "    </tr>\n",
       "    <tr>\n",
       "      <th>krajbich2010</th>\n",
       "      <td>39.0</td>\n",
       "      <td>0.262821</td>\n",
       "      <td>0.484197</td>\n",
       "      <td>-0.89</td>\n",
       "      <td>-0.07</td>\n",
       "      <td>0.230</td>\n",
       "      <td>0.6750</td>\n",
       "      <td>0.97</td>\n",
       "    </tr>\n",
       "    <tr>\n",
       "      <th>krajbich2011</th>\n",
       "      <td>30.0</td>\n",
       "      <td>0.179000</td>\n",
       "      <td>0.408347</td>\n",
       "      <td>-1.03</td>\n",
       "      <td>-0.07</td>\n",
       "      <td>0.305</td>\n",
       "      <td>0.4625</td>\n",
       "      <td>0.81</td>\n",
       "    </tr>\n",
       "    <tr>\n",
       "      <th>tavares2017</th>\n",
       "      <td>25.0</td>\n",
       "      <td>0.080400</td>\n",
       "      <td>0.230552</td>\n",
       "      <td>-0.36</td>\n",
       "      <td>0.00</td>\n",
       "      <td>0.080</td>\n",
       "      <td>0.1900</td>\n",
       "      <td>0.56</td>\n",
       "    </tr>\n",
       "  </tbody>\n",
       "</table>\n",
       "</div>"
      ],
      "text/plain": [
       "              count      mean       std   min   25%    50%     75%   max\n",
       "dataset                                                                 \n",
       "folke2016      24.0 -0.017083  0.282804 -0.50 -0.25 -0.025  0.2075  0.46\n",
       "krajbich2010   39.0  0.262821  0.484197 -0.89 -0.07  0.230  0.6750  0.97\n",
       "krajbich2011   30.0  0.179000  0.408347 -1.03 -0.07  0.305  0.4625  0.81\n",
       "tavares2017    25.0  0.080400  0.230552 -0.36  0.00  0.080  0.1900  0.56"
      ]
     },
     "execution_count": 4,
     "metadata": {},
     "output_type": "execute_result"
    }
   ],
   "source": [
    "individual_estimates.groupby('dataset')['gamma'].describe()"
   ]
  },
  {
   "cell_type": "code",
   "execution_count": 5,
   "metadata": {
    "collapsed": true
   },
   "outputs": [],
   "source": [
    "multiplicative_estimates = individual_estimates.copy()"
   ]
  },
  {
   "cell_type": "markdown",
   "metadata": {},
   "source": [
    "# Figure S1"
   ]
  },
  {
   "cell_type": "code",
   "execution_count": 6,
   "metadata": {
    "collapsed": false
   },
   "outputs": [],
   "source": [
    "import matplotlib\n",
    "\n",
    "def figure_si1(estimates,\n",
    "               parameters=['v', 'gamma', 's', 'tau'],\n",
    "               labels=dict(v=r'$v\\ [ms^{-1}]$',\n",
    "                           gamma=r'$\\gamma$',\n",
    "                           s=r'$\\sigma\\ [ms^{-1}]$',\n",
    "                           tau=r'$\\tau$'),\n",
    "               bins=dict(v=np.linspace(0, 0.0002, 21),\n",
    "                         gamma=np.linspace(-1.2, 1, 21),\n",
    "                         s=np.linspace(0, 0.02, 21),\n",
    "                         tau=np.linspace(0, 5, 21)),\n",
    "               ticks=dict(v=[0, 0.0001, 0.0002],\n",
    "                          gamma=[-1, 0, 1],\n",
    "                          s=[0, 0.01, 0.02],\n",
    "                          tau=[0, 1, 2, 3, 4, 5]),\n",
    "               limits=dict(v=[0, 0.000225],\n",
    "                           gamma=[-1.5, 1.25],\n",
    "                           s=[0, 0.0225],\n",
    "                           tau=[0, 5.5]),\n",
    "               figsize=cm2inch(18, 20),\n",
    "               fontsize=8):\n",
    "    \"\"\"\n",
    "    Figure SI 1 - Parameter estimates\n",
    "    Plots pairwise scatterplots of parameter\n",
    "    estimates, color-coded by data set.\n",
    "    \n",
    "    Reference:\n",
    "    Ratcliff & Tuerlinckx, 2002; Figure 6\n",
    "\n",
    "    parameters:\n",
    "    -----------\n",
    "    estimates <pandas.DataFrame>\n",
    "    \n",
    "    Returns:\n",
    "    --------\n",
    "    matplotlib.figure, matplotlib.axes\n",
    "    \"\"\"\n",
    "    datasets = ['krajbich2010', 'krajbich2011', 'folke2016', 'tavares2017']\n",
    "    n_datasets = len(datasets)\n",
    "    n_parameters = len(parameters)\n",
    "    \n",
    "    fig = plt.figure(figsize=figsize)\n",
    "\n",
    "    hist_ax_00 = plt.subplot2grid((n_datasets*n_parameters, n_parameters), (0, 0))\n",
    "    hist_ax_10 = plt.subplot2grid((n_datasets*n_parameters, n_parameters), (1, 0))\n",
    "    hist_ax_20 = plt.subplot2grid((n_datasets*n_parameters, n_parameters), (2, 0))\n",
    "    hist_ax_30 = plt.subplot2grid((n_datasets*n_parameters, n_parameters), (3, 0))\n",
    "\n",
    "    hist_ax_01 = plt.subplot2grid((n_datasets*n_parameters, n_parameters), (4, 1))\n",
    "    hist_ax_11 = plt.subplot2grid((n_datasets*n_parameters, n_parameters), (5, 1))\n",
    "    hist_ax_21 = plt.subplot2grid((n_datasets*n_parameters, n_parameters), (6, 1))\n",
    "    hist_ax_31 = plt.subplot2grid((n_datasets*n_parameters, n_parameters), (7, 1))\n",
    "\n",
    "    hist_ax_02 = plt.subplot2grid((n_datasets*n_parameters, n_parameters), (8, 2))\n",
    "    hist_ax_12 = plt.subplot2grid((n_datasets*n_parameters, n_parameters), (9, 2))\n",
    "    hist_ax_22 = plt.subplot2grid((n_datasets*n_parameters, n_parameters), (10, 2))\n",
    "    hist_ax_32 = plt.subplot2grid((n_datasets*n_parameters, n_parameters), (11, 2))\n",
    "\n",
    "    hist_ax_03 = plt.subplot2grid((n_datasets*n_parameters, n_parameters), (12, 3))\n",
    "    hist_ax_13 = plt.subplot2grid((n_datasets*n_parameters, n_parameters), (13, 3))\n",
    "    hist_ax_23 = plt.subplot2grid((n_datasets*n_parameters, n_parameters), (14, 3))\n",
    "    hist_ax_33 = plt.subplot2grid((n_datasets*n_parameters, n_parameters), (15, 3))\n",
    "\n",
    "    ax01 = plt.subplot2grid((n_datasets*n_parameters, n_parameters), (4, 0), rowspan=n_datasets)\n",
    "    ax02 = plt.subplot2grid((n_datasets*n_parameters, n_parameters), (8, 0), rowspan=n_datasets)\n",
    "    ax03 = plt.subplot2grid((n_datasets*n_parameters, n_parameters), (12, 0), rowspan=n_datasets)\n",
    "\n",
    "    ax12 = plt.subplot2grid((n_datasets*n_parameters, n_parameters), (8, 1), rowspan=n_datasets)\n",
    "    ax13 = plt.subplot2grid((n_datasets*n_parameters, n_parameters), (12, 1), rowspan=n_datasets)\n",
    "\n",
    "    ax23 = plt.subplot2grid((n_datasets*n_parameters, n_parameters), (12, 2), rowspan=n_datasets)\n",
    "    \n",
    "    hist_axs = np.array([[hist_ax_00, hist_ax_10, hist_ax_20, hist_ax_30],\n",
    "                         [hist_ax_01, hist_ax_11, hist_ax_21, hist_ax_31],\n",
    "                         [hist_ax_02, hist_ax_12, hist_ax_22, hist_ax_32],\n",
    "                         [hist_ax_03, hist_ax_13, hist_ax_23, hist_ax_33]])\n",
    "    scatter_axs = np.array([[np.nan, np.nan, np.nan, np.nan],\n",
    "                            [ax01,   np.nan, np.nan, np.nan],\n",
    "                            [ax02,   ax12,   np.nan, np.nan],\n",
    "                            [ax03,   ax13,   ax23,   np.nan]])\n",
    "\n",
    "    colors = np.array(['C{}'.format(d) for d, dataset in enumerate(datasets)])\n",
    "    dataset_index = pd.Categorical(estimates['dataset'], categories=datasets).codes\n",
    "    \n",
    "    for p, (pary, parylabel) in enumerate(zip(parameters, labels)):\n",
    "        for q, (parx, parxlabel) in enumerate(zip(parameters, labels)):\n",
    "            if q > p:\n",
    "                continue\n",
    "            elif p == q:\n",
    "                for d, dataset in enumerate(datasets):\n",
    "                    if d == 0:\n",
    "                        hist_axs[p, d].set_title(labels[parx], fontsize=fontsize, fontweight='black')\n",
    "                    hist_axs[p, d].hist(estimates.loc[estimates['dataset'] == dataset, parx],\n",
    "                                        bins=bins[pary],\n",
    "                                        color=colors[d],\n",
    "                                        edgecolor='white',\n",
    "                                        linewidth=1)\n",
    "                    hist_axs[p, d].set_xticks(ticks[parx])\n",
    "                    hist_axs[p, d].set_xticklabels([])\n",
    "                    hist_axs[p, d].set_yticks([0,10])\n",
    "                    hist_axs[p, d].set_yticklabels([0,10], fontsize=5)\n",
    "                    hist_axs[p, d].set_xlim(limits[parx])\n",
    "                    hist_axs[p, d].set_ylim([0,10])\n",
    "                    hist_axs[p, d].spines['top'].set_visible(False)\n",
    "                    hist_axs[p, d].spines['right'].set_visible(False)\n",
    "                    \n",
    "\n",
    "            else:\n",
    "                scatter_axs[p, q].scatter(estimates[parx],\n",
    "                                          estimates[pary],\n",
    "                                          marker='o',\n",
    "                                          color='none',\n",
    "                                          edgecolor=colors[dataset_index],\n",
    "                                          linewidth=0.5,\n",
    "                                          s=30)\n",
    "                scatter_axs[p, q].scatter(estimates[parx],\n",
    "                                          estimates[pary],\n",
    "                                          marker='o',\n",
    "                                          color=colors[dataset_index],\n",
    "                                          alpha=0.5,\n",
    "                                          linewidth=0,\n",
    "                                          s=30)\n",
    "                scatter_axs[p, q].set_xticks(ticks[parx])\n",
    "                scatter_axs[p, q].set_yticks(ticks[pary])\n",
    "                scatter_axs[p, q].set_xticklabels([])\n",
    "                scatter_axs[p, q].set_yticklabels([])\n",
    "                scatter_axs[p, q].set_xlim(limits[parx])\n",
    "                scatter_axs[p, q].set_ylim(limits[pary])\n",
    "                scatter_axs[p, q].spines['right'].set_visible(False)\n",
    "                scatter_axs[p, q].spines['top'].set_visible(False)\n",
    "\n",
    "                \n",
    "            if (q == 0) and (p != 0):\n",
    "                scatter_axs[p, q].set_ylabel(labels[pary], fontsize=fontsize)\n",
    "                scatter_axs[p, q].set_yticks(ticks[pary])\n",
    "                scatter_axs[p, q].set_yticklabels(ticks[pary], fontsize=fontsize)\n",
    "            if (p == (n_parameters - 1)) and (q != p):\n",
    "                scatter_axs[p, q].set_xticklabels(ticks[parx], fontsize=fontsize)\n",
    "                scatter_axs[p, q].set_xlabel(labels[parx], fontsize=fontsize)\n",
    "    \n",
    "    hist_axs[-1, -1].set_xlabel(labels[parameters[-1]], fontsize=fontsize)\n",
    "    hist_axs[-1, -1].set_xticks(ticks[parameters[-1]])\n",
    "    hist_axs[-1, -1].set_xticklabels(ticks[parameters[-1]], fontsize=fontsize)\n",
    "    hist_axs[-1, -1].set_xlim(limits[parameters[-1]])\n",
    "    \n",
    "    # add panel labeling\n",
    "    # histograms\n",
    "    for label, ax in zip(list('acfj'),\n",
    "                         list((hist_ax_00, hist_ax_01, hist_ax_02, hist_ax_03))):\n",
    "        ax.text(-0.25, 2.5, label, transform=ax.transAxes,\n",
    "                fontsize=fontsize, fontweight='bold', va='top') \n",
    "    # add frequency labeling\n",
    "    for ax in [hist_ax_20, hist_ax_21, hist_ax_22, hist_ax_23]:\n",
    "        ax.set_ylabel('                 Frequency', fontsize=6)\n",
    "    # scatterplots\n",
    "    i = 0\n",
    "    scatter_labels = list('bdeghi')\n",
    "    for ax in scatter_axs.ravel():\n",
    "        if ax is not np.nan:\n",
    "            ax.text(-0.25, 1.1, scatter_labels[i], transform=ax.transAxes,\n",
    "                    fontsize=fontsize, fontweight='bold', va='top')\n",
    "            ax.spines['top'].set_visible(False)\n",
    "            ax.spines['right'].set_visible(False)\n",
    "            # Font sizes\n",
    "            ax.tick_params(axis='both', labelsize=fontsize)\n",
    "            i += 1\n",
    "    \n",
    "    fig.tight_layout(h_pad=0., w_pad=1)\n",
    "    return fig"
   ]
  },
  {
   "cell_type": "code",
   "execution_count": 7,
   "metadata": {
    "collapsed": false,
    "scrolled": false
   },
   "outputs": [
    {
     "data": {
      "image/png": "[encoded data removed]",
      "text/plain": [
       "<matplotlib.figure.Figure at 0x1258e2400>"
      ]
     },
     "metadata": {},
     "output_type": "display_data"
    }
   ],
   "source": [
    "figure_si1(individual_estimates);\n",
    "plt.savefig(join('results', 'figures', 'si_figure_1_parameter_estimates_correlations.png'), dpi=330)\n",
    "plt.savefig(join('results', 'figures', 'si_figure_1_parameter_estimates_correlations.pdf'), dpi=330)"
   ]
  },
  {
   "cell_type": "markdown",
   "metadata": {},
   "source": [
    "# Correlation table"
   ]
  },
  {
   "cell_type": "code",
   "execution_count": 8,
   "metadata": {
    "collapsed": false
   },
   "outputs": [],
   "source": [
    "parameters = ['v', 'gamma', 's', 'tau']\n",
    "corrs = {}\n",
    "corrs_table = {}\n",
    "ps = {}\n",
    "ps_table = {}\n",
    "for p1 in parameters:\n",
    "    corrs_table[p1] = []\n",
    "    ps_table[p1] = []\n",
    "    for p2 in parameters:\n",
    "        _,_,r,p,_ = linregress(multiplicative_estimates[p1].values,\n",
    "                               multiplicative_estimates[p2].values)\n",
    "        corrs[(p1, p2)] = r\n",
    "        corrs_table[p1].append(r)\n",
    "        ps[(p1, p2)] = p\n",
    "        ps_table[p1].append(p)"
   ]
  },
  {
   "cell_type": "code",
   "execution_count": 9,
   "metadata": {
    "collapsed": false
   },
   "outputs": [
    {
     "data": {
      "text/html": [
       "<div>\n",
       "<style scoped>\n",
       "    .dataframe tbody tr th:only-of-type {\n",
       "        vertical-align: middle;\n",
       "    }\n",
       "\n",
       "    .dataframe tbody tr th {\n",
       "        vertical-align: top;\n",
       "    }\n",
       "\n",
       "    .dataframe thead th {\n",
       "        text-align: right;\n",
       "    }\n",
       "</style>\n",
       "<table border=\"1\" class=\"dataframe\">\n",
       "  <thead>\n",
       "    <tr style=\"text-align: right;\">\n",
       "      <th></th>\n",
       "      <th>gamma</th>\n",
       "      <th>s</th>\n",
       "      <th>tau</th>\n",
       "      <th>v</th>\n",
       "    </tr>\n",
       "  </thead>\n",
       "  <tbody>\n",
       "    <tr>\n",
       "      <th>v</th>\n",
       "      <td>0.063014</td>\n",
       "      <td>0.261000</td>\n",
       "      <td>-0.588664</td>\n",
       "      <td>1.000000</td>\n",
       "    </tr>\n",
       "    <tr>\n",
       "      <th>gamma</th>\n",
       "      <td>1.000000</td>\n",
       "      <td>0.097936</td>\n",
       "      <td>-0.098303</td>\n",
       "      <td>0.063014</td>\n",
       "    </tr>\n",
       "    <tr>\n",
       "      <th>s</th>\n",
       "      <td>0.097936</td>\n",
       "      <td>1.000000</td>\n",
       "      <td>-0.267730</td>\n",
       "      <td>0.261000</td>\n",
       "    </tr>\n",
       "    <tr>\n",
       "      <th>tau</th>\n",
       "      <td>-0.098303</td>\n",
       "      <td>-0.267730</td>\n",
       "      <td>1.000000</td>\n",
       "      <td>-0.588664</td>\n",
       "    </tr>\n",
       "  </tbody>\n",
       "</table>\n",
       "</div>"
      ],
      "text/plain": [
       "          gamma         s       tau         v\n",
       "v      0.063014  0.261000 -0.588664  1.000000\n",
       "gamma  1.000000  0.097936 -0.098303  0.063014\n",
       "s      0.097936  1.000000 -0.267730  0.261000\n",
       "tau   -0.098303 -0.267730  1.000000 -0.588664"
      ]
     },
     "execution_count": 9,
     "metadata": {},
     "output_type": "execute_result"
    }
   ],
   "source": [
    "r_table = pd.DataFrame(corrs_table, index=parameters)\n",
    "r_table"
   ]
  },
  {
   "cell_type": "code",
   "execution_count": 10,
   "metadata": {
    "collapsed": false
   },
   "outputs": [
    {
     "data": {
      "text/html": [
       "<div>\n",
       "<style scoped>\n",
       "    .dataframe tbody tr th:only-of-type {\n",
       "        vertical-align: middle;\n",
       "    }\n",
       "\n",
       "    .dataframe tbody tr th {\n",
       "        vertical-align: top;\n",
       "    }\n",
       "\n",
       "    .dataframe thead th {\n",
       "        text-align: right;\n",
       "    }\n",
       "</style>\n",
       "<table border=\"1\" class=\"dataframe\">\n",
       "  <thead>\n",
       "    <tr style=\"text-align: right;\">\n",
       "      <th></th>\n",
       "      <th>gamma</th>\n",
       "      <th>s</th>\n",
       "      <th>tau</th>\n",
       "      <th>v</th>\n",
       "    </tr>\n",
       "  </thead>\n",
       "  <tbody>\n",
       "    <tr>\n",
       "      <th>v</th>\n",
       "      <td>0.497841</td>\n",
       "      <td>0.004308</td>\n",
       "      <td>2.373948e-12</td>\n",
       "      <td>0.000000e+00</td>\n",
       "    </tr>\n",
       "    <tr>\n",
       "      <th>gamma</th>\n",
       "      <td>0.000000</td>\n",
       "      <td>0.291392</td>\n",
       "      <td>2.895794e-01</td>\n",
       "      <td>4.978410e-01</td>\n",
       "    </tr>\n",
       "    <tr>\n",
       "      <th>s</th>\n",
       "      <td>0.291392</td>\n",
       "      <td>0.000000</td>\n",
       "      <td>3.378296e-03</td>\n",
       "      <td>4.308266e-03</td>\n",
       "    </tr>\n",
       "    <tr>\n",
       "      <th>tau</th>\n",
       "      <td>0.289579</td>\n",
       "      <td>0.003378</td>\n",
       "      <td>0.000000e+00</td>\n",
       "      <td>2.373948e-12</td>\n",
       "    </tr>\n",
       "  </tbody>\n",
       "</table>\n",
       "</div>"
      ],
      "text/plain": [
       "          gamma         s           tau             v\n",
       "v      0.497841  0.004308  2.373948e-12  0.000000e+00\n",
       "gamma  0.000000  0.291392  2.895794e-01  4.978410e-01\n",
       "s      0.291392  0.000000  3.378296e-03  4.308266e-03\n",
       "tau    0.289579  0.003378  0.000000e+00  2.373948e-12"
      ]
     },
     "execution_count": 10,
     "metadata": {},
     "output_type": "execute_result"
    }
   ],
   "source": [
    "ps_table = pd.DataFrame(ps_table, index=parameters)\n",
    "ps_table"
   ]
  }
 ],
 "metadata": {
  "anaconda-cloud": {},
  "kernelspec": {
   "display_name": "Python [Root]",
   "language": "python",
   "name": "Python [Root]"
  },
  "language_info": {
   "codemirror_mode": {
    "name": "ipython",
    "version": 3
   },
   "file_extension": ".py",
   "mimetype": "text/x-python",
   "name": "python",
   "nbconvert_exporter": "python",
   "pygments_lexer": "ipython3",
   "version": "3.5.2"
  }
 },
 "nbformat": 4,
 "nbformat_minor": 2
}
