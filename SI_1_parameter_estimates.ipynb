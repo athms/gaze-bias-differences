{
 "cells": [
  {
   "cell_type": "code",
   "execution_count": 1,
   "metadata": {},
   "outputs": [
    {
     "name": "stderr",
     "output_type": "stream",
     "text": [
      "/Users/felixmolter/anaconda3/lib/python3.6/site-packages/h5py/__init__.py:36: FutureWarning: Conversion of the second argument of issubdtype from `float` to `np.floating` is deprecated. In future, it will be treated as `np.float64 == np.dtype(float).type`.\n",
      "  from ._conv import register_converters as _register_converters\n"
     ]
    }
   ],
   "source": [
    "import numpy as np\n",
    "import pandas as pd\n",
    "import matplotlib.pyplot as plt\n",
    "import os\n",
    "from os.path import join\n",
    "plt.rc(\"axes.spines\", top=False, right=False)\n",
    "\n",
    "from analysis_functions import iqr, std, se\n",
    "from glam.plots import plot_correlation"
   ]
  },
  {
   "cell_type": "code",
   "execution_count": 2,
   "metadata": {},
   "outputs": [],
   "source": [
    "np.random.seed(7) # from random.org"
   ]
  },
  {
   "cell_type": "markdown",
   "metadata": {},
   "source": [
    "# SI 1 Parameter estimates"
   ]
  },
  {
   "cell_type": "code",
   "execution_count": 3,
   "metadata": {},
   "outputs": [
    {
     "data": {
      "text/html": [
       "<div>\n",
       "<style scoped>\n",
       "    .dataframe tbody tr th:only-of-type {\n",
       "        vertical-align: middle;\n",
       "    }\n",
       "\n",
       "    .dataframe tbody tr th {\n",
       "        vertical-align: top;\n",
       "    }\n",
       "\n",
       "    .dataframe thead th {\n",
       "        text-align: right;\n",
       "    }\n",
       "</style>\n",
       "<table border=\"1\" class=\"dataframe\">\n",
       "  <thead>\n",
       "    <tr style=\"text-align: right;\">\n",
       "      <th></th>\n",
       "      <th>v</th>\n",
       "      <th>gamma</th>\n",
       "      <th>s</th>\n",
       "      <th>tau</th>\n",
       "      <th>subject</th>\n",
       "      <th>dataset</th>\n",
       "    </tr>\n",
       "  </thead>\n",
       "  <tbody>\n",
       "    <tr>\n",
       "      <th>0</th>\n",
       "      <td>0.000084</td>\n",
       "      <td>0.79</td>\n",
       "      <td>0.010750</td>\n",
       "      <td>0.49</td>\n",
       "      <td>0</td>\n",
       "      <td>krajbich2010</td>\n",
       "    </tr>\n",
       "    <tr>\n",
       "      <th>1</th>\n",
       "      <td>0.000095</td>\n",
       "      <td>-0.13</td>\n",
       "      <td>0.009213</td>\n",
       "      <td>0.22</td>\n",
       "      <td>1</td>\n",
       "      <td>krajbich2010</td>\n",
       "    </tr>\n",
       "    <tr>\n",
       "      <th>2</th>\n",
       "      <td>0.000024</td>\n",
       "      <td>0.82</td>\n",
       "      <td>0.009846</td>\n",
       "      <td>1.17</td>\n",
       "      <td>2</td>\n",
       "      <td>krajbich2010</td>\n",
       "    </tr>\n",
       "    <tr>\n",
       "      <th>3</th>\n",
       "      <td>0.000089</td>\n",
       "      <td>0.65</td>\n",
       "      <td>0.006601</td>\n",
       "      <td>0.09</td>\n",
       "      <td>3</td>\n",
       "      <td>krajbich2010</td>\n",
       "    </tr>\n",
       "    <tr>\n",
       "      <th>4</th>\n",
       "      <td>0.000090</td>\n",
       "      <td>0.51</td>\n",
       "      <td>0.009910</td>\n",
       "      <td>0.30</td>\n",
       "      <td>4</td>\n",
       "      <td>krajbich2010</td>\n",
       "    </tr>\n",
       "  </tbody>\n",
       "</table>\n",
       "</div>"
      ],
      "text/plain": [
       "          v  gamma         s   tau  subject       dataset\n",
       "0  0.000084   0.79  0.010750  0.49        0  krajbich2010\n",
       "1  0.000095  -0.13  0.009213  0.22        1  krajbich2010\n",
       "2  0.000024   0.82  0.009846  1.17        2  krajbich2010\n",
       "3  0.000089   0.65  0.006601  0.09        3  krajbich2010\n",
       "4  0.000090   0.51  0.009910  0.30        4  krajbich2010"
      ]
     },
     "execution_count": 3,
     "metadata": {},
     "output_type": "execute_result"
    }
   ],
   "source": [
    "parameters = ['v', 'gamma', 's', 'tau']\n",
    "\n",
    "estimates_list = []\n",
    "\n",
    "estimate_files = [file for file in os.listdir(join('results', 'estimates', 'in_sample', 'multiplicative'))\n",
    "                  if file.endswith('.csv')]\n",
    "\n",
    "for file in estimate_files:\n",
    "    _, subject, _, _ = file.split('_')\n",
    "    subject = int(subject)\n",
    "    estimates = pd.read_csv(join('results', 'estimates', 'in_sample', 'multiplicative', file), index_col=0)\n",
    "    subject_estimates = {parameter: estimates.loc[parameter + '__0_0', 'MAP']\n",
    "                         for parameter in parameters}\n",
    "    subject_estimates['subject'] = subject\n",
    "    estimates_list.append(pd.DataFrame(subject_estimates, index=np.zeros(1)))\n",
    "\n",
    "estimates = pd.concat(estimates_list).sort_values('subject').reset_index(drop=True)\n",
    "\n",
    "estimates['dataset'] = np.array(39 * ['krajbich2010'] + 30 * ['krajbich2011'] + 24 * ['folke2016'] + 25 * ['tavares2017'])\n",
    "\n",
    "estimates.head()"
   ]
  },
  {
   "cell_type": "code",
   "execution_count": 4,
   "metadata": {},
   "outputs": [
    {
     "name": "stdout",
     "output_type": "stream",
     "text": [
      "           mean       std        se       iqr       min       max\n",
      "v      0.000066  0.000036  0.000003  0.000055  0.000017  0.000171\n",
      "gamma  0.146695  0.394915  0.036510  0.537500 -1.100000  0.970000\n",
      "s      0.008432  0.002380  0.000220  0.003550  0.003731  0.014355\n",
      "tau    0.882627  0.805309  0.074451  0.657500  0.010000  4.820000\n"
     ]
    }
   ],
   "source": [
    "print(estimates[parameters].agg(['mean', std, se, iqr, 'min', 'max']).T)"
   ]
  },
  {
   "cell_type": "code",
   "execution_count": 5,
   "metadata": {},
   "outputs": [
    {
     "data": {
      "text/html": [
       "<div>\n",
       "<style scoped>\n",
       "    .dataframe tbody tr th:only-of-type {\n",
       "        vertical-align: middle;\n",
       "    }\n",
       "\n",
       "    .dataframe tbody tr th {\n",
       "        vertical-align: top;\n",
       "    }\n",
       "\n",
       "    .dataframe thead th {\n",
       "        text-align: right;\n",
       "    }\n",
       "</style>\n",
       "<table border=\"1\" class=\"dataframe\">\n",
       "  <thead>\n",
       "    <tr style=\"text-align: right;\">\n",
       "      <th></th>\n",
       "      <th>count</th>\n",
       "      <th>mean</th>\n",
       "      <th>std</th>\n",
       "      <th>min</th>\n",
       "      <th>25%</th>\n",
       "      <th>50%</th>\n",
       "      <th>75%</th>\n",
       "      <th>max</th>\n",
       "    </tr>\n",
       "    <tr>\n",
       "      <th>dataset</th>\n",
       "      <th></th>\n",
       "      <th></th>\n",
       "      <th></th>\n",
       "      <th></th>\n",
       "      <th></th>\n",
       "      <th></th>\n",
       "      <th></th>\n",
       "      <th></th>\n",
       "    </tr>\n",
       "  </thead>\n",
       "  <tbody>\n",
       "    <tr>\n",
       "      <th>folke2016</th>\n",
       "      <td>24.0</td>\n",
       "      <td>-0.016250</td>\n",
       "      <td>0.281468</td>\n",
       "      <td>-0.46</td>\n",
       "      <td>-0.280</td>\n",
       "      <td>-0.020</td>\n",
       "      <td>0.1950</td>\n",
       "      <td>0.47</td>\n",
       "    </tr>\n",
       "    <tr>\n",
       "      <th>krajbich2010</th>\n",
       "      <td>39.0</td>\n",
       "      <td>0.266667</td>\n",
       "      <td>0.486363</td>\n",
       "      <td>-0.89</td>\n",
       "      <td>-0.040</td>\n",
       "      <td>0.230</td>\n",
       "      <td>0.7000</td>\n",
       "      <td>0.97</td>\n",
       "    </tr>\n",
       "    <tr>\n",
       "      <th>krajbich2011</th>\n",
       "      <td>30.0</td>\n",
       "      <td>0.176333</td>\n",
       "      <td>0.414458</td>\n",
       "      <td>-1.10</td>\n",
       "      <td>-0.085</td>\n",
       "      <td>0.295</td>\n",
       "      <td>0.4625</td>\n",
       "      <td>0.81</td>\n",
       "    </tr>\n",
       "    <tr>\n",
       "      <th>tavares2017</th>\n",
       "      <td>25.0</td>\n",
       "      <td>0.080400</td>\n",
       "      <td>0.230552</td>\n",
       "      <td>-0.36</td>\n",
       "      <td>0.000</td>\n",
       "      <td>0.080</td>\n",
       "      <td>0.1900</td>\n",
       "      <td>0.56</td>\n",
       "    </tr>\n",
       "  </tbody>\n",
       "</table>\n",
       "</div>"
      ],
      "text/plain": [
       "              count      mean       std   min    25%    50%     75%   max\n",
       "dataset                                                                  \n",
       "folke2016      24.0 -0.016250  0.281468 -0.46 -0.280 -0.020  0.1950  0.47\n",
       "krajbich2010   39.0  0.266667  0.486363 -0.89 -0.040  0.230  0.7000  0.97\n",
       "krajbich2011   30.0  0.176333  0.414458 -1.10 -0.085  0.295  0.4625  0.81\n",
       "tavares2017    25.0  0.080400  0.230552 -0.36  0.000  0.080  0.1900  0.56"
      ]
     },
     "execution_count": 5,
     "metadata": {},
     "output_type": "execute_result"
    }
   ],
   "source": [
    "estimates.groupby('dataset')['gamma'].describe()"
   ]
  },
  {
   "cell_type": "code",
   "execution_count": 6,
   "metadata": {},
   "outputs": [],
   "source": [
    "def si_figure_1(estimates, figsize=(7.5, 7.5), fontsize=8, n_bins=21):\n",
    "\n",
    "    datasets = ['krajbich2010', 'krajbich2011', 'folke2016', 'tavares2017']\n",
    "    dataset_labels = ['Krajbich 2010', 'Krajbich 2011', 'Folke 2016', 'Tavares 2017']\n",
    "\n",
    "    fig, axs = plt.subplots(len(datasets), 4, figsize=figsize, sharex='col', sharey=True)\n",
    "\n",
    "    parameters = ['v', 'gamma', 's', 'tau']\n",
    "    parameter_labels = [r'$v$ $[ms^{-1}]$', r'$\\gamma$', r'$\\sigma$ $[ms^{-1}]$', r'$\\tau$']\n",
    "    parameter_limits = [(0, 0.000225), (-1.5, 1.25), (0, 0.0225), (0, 5.5)]\n",
    "    parameter_ticks = [[0, 0.0001, 0.0002], [-1, 0, 1], [0, 0.01, 0.02], [0, 1, 2, 3, 4, 5]]\n",
    "    \n",
    "    for p, (parameter, label, limits, ticks) in enumerate(zip(parameters, \n",
    "                                                              parameter_labels,\n",
    "                                                              parameter_limits,\n",
    "                                                              parameter_ticks)):\n",
    "        \n",
    "        for d, (dataset, dataset_label) in enumerate(zip(datasets, dataset_labels)):\n",
    "            # Histograms\n",
    "            _, _, patches = axs[d, p].hist(estimates.loc[estimates['dataset'] == dataset, parameter].values,\n",
    "                                           bins=np.linspace(*limits, n_bins), color='C{}'.format(d))\n",
    "            axs[d, p].set_xticks(ticks)\n",
    "            axs[d, p].set_xlim(limits)\n",
    "            axs[d, p].tick_params(axis='both', which='both', labelsize=fontsize)\n",
    "\n",
    "\n",
    "            if p == 0:\n",
    "                axs[d, p].set_ylabel('{}\\n\\nFrequency'.format(dataset_label), fontsize=fontsize)\n",
    "                axs[d, p].set_yticks(np.arange(0, 31, 5))\n",
    "                \n",
    "            if d == (len(datasets) - 1):\n",
    "                axs[d, p].set_xlabel(label, fontsize=fontsize)\n",
    "\n",
    "    \n",
    "    fig.tight_layout()\n",
    "\n",
    "    return fig, axs"
   ]
  },
  {
   "cell_type": "code",
   "execution_count": 7,
   "metadata": {},
   "outputs": [
    {
     "data": {
      "image/png": "[encoded data removed]",
      "text/plain": [
       "<Figure size 540x540 with 16 Axes>"
      ]
     },
     "metadata": {},
     "output_type": "display_data"
    }
   ],
   "source": [
    "si_figure_1(estimates);\n",
    "plt.savefig('results/figures/si_figure_1_parameter_estimates.png', dpi=330, bbox_inches='tight')\n",
    "plt.show()"
   ]
  },
  {
   "cell_type": "code",
   "execution_count": null,
   "metadata": {},
   "outputs": [],
   "source": []
  }
 ],
 "metadata": {
  "kernelspec": {
   "display_name": "Python 3",
   "language": "python",
   "name": "python3"
  },
  "language_info": {
   "codemirror_mode": {
    "name": "ipython",
    "version": 3
   },
   "file_extension": ".py",
   "mimetype": "text/x-python",
   "name": "python",
   "nbconvert_exporter": "python",
   "pygments_lexer": "ipython3",
   "version": "3.6.5"
  }
 },
 "nbformat": 4,
 "nbformat_minor": 2
}
