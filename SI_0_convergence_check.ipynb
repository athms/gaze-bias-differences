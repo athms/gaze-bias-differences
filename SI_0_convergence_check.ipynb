{
 "cells": [
  {
   "cell_type": "code",
   "execution_count": 1,
   "metadata": {
    "collapsed": true
   },
   "outputs": [],
   "source": [
    "import os\n",
    "import numpy as np\n",
    "import pandas as pd\n",
    "import matplotlib.pyplot as plt\n",
    "%matplotlib inline"
   ]
  },
  {
   "cell_type": "markdown",
   "metadata": {},
   "source": [
    "# Convergence Check\n",
    "\n",
    "This notebook reads model estimate files and checks Rhat statistic if convergence is given."
   ]
  },
  {
   "cell_type": "markdown",
   "metadata": {},
   "source": [
    "# In sample"
   ]
  },
  {
   "cell_type": "code",
   "execution_count": 2,
   "metadata": {
    "collapsed": true
   },
   "outputs": [],
   "source": [
    "model_parameters = dict(additive=['v', 'gamma', 's', 'tau'],\n",
    "                        GLAM=['v', 'gamma', 's', 'tau'],\n",
    "                        nobias=['v', 's', 'tau'])\n",
    "\n",
    "base_dir = os.path.join('results', 'estimates')\n",
    "\n",
    "epsilon = 0.05 # we'll diagnose convergence if |Rhat - 1| < epsilon"
   ]
  },
  {
   "cell_type": "code",
   "execution_count": 3,
   "metadata": {
    "collapsed": false
   },
   "outputs": [
    {
     "name": "stdout",
     "output_type": "stream",
     "text": [
      "In-sample fits have converged for all participants and models.\n"
     ]
    }
   ],
   "source": [
    "results_ins = []\n",
    "\n",
    "models = ['additive', 'GLAM', 'nobias']\n",
    "\n",
    "for model in models:\n",
    "    files = [file for file in os.listdir(os.path.join(base_dir, 'in_sample', model))\n",
    "             if file.endswith('.csv')]\n",
    "    parameters = [parameter + '__0_0' for parameter in model_parameters[model]]\n",
    "    \n",
    "    for file in files:\n",
    "        _, subject, _, _ = file.split('_')\n",
    "        subject = int(subject)\n",
    "        \n",
    "        estimates = pd.read_csv(os.path.join(base_dir, 'in_sample', model, file), index_col=0)\n",
    "        converged = np.alltrue(np.abs(estimates.loc[parameters, 'Rhat'] - 1) < epsilon)\n",
    "        if not converged:\n",
    "            print('No convergence for subject {}, {} model.'.format(subject, model))\n",
    "        result = pd.DataFrame(dict(subject=subject,\n",
    "                                   model=model,\n",
    "                                   converged=converged),\n",
    "                              index=np.ones(1) * subject)\n",
    "        results_ins.append(result)\n",
    "        \n",
    "results_ins = pd.concat(results_ins).sort_values(['subject', 'model']).reset_index(drop=True)\n",
    "\n",
    "if (results_ins['converged'].mean() == 1.0):\n",
    "    print('In-sample fits have converged for all participants and models.')"
   ]
  },
  {
   "cell_type": "markdown",
   "metadata": {},
   "source": [
    "# Out of sample"
   ]
  },
  {
   "cell_type": "code",
   "execution_count": 4,
   "metadata": {
    "collapsed": true
   },
   "outputs": [],
   "source": [
    "model_parameters = dict(additive=['v', 'gamma', 's', 'tau'],\n",
    "                        multiplicative=['v', 'gamma', 's', 'tau'],\n",
    "                        nobias=['v', 's', 'tau'])\n",
    "\n",
    "base_dir = os.path.join('results', 'estimates')\n",
    "\n",
    "epsilon = 0.05 # we'll diagnose convergence if |Rhat - 1| < epsilon"
   ]
  },
  {
   "cell_type": "code",
   "execution_count": 5,
   "metadata": {
    "collapsed": false
   },
   "outputs": [
    {
     "name": "stdout",
     "output_type": "stream",
     "text": [
      "Out-of-sample fits have converged for all participants and models.\n"
     ]
    }
   ],
   "source": [
    "results_oos = []\n",
    "\n",
    "models = ['multiplicative', 'nobias']\n",
    "\n",
    "for model in models:\n",
    "    files = [file for file in os.listdir(os.path.join(base_dir, 'out_of_sample', model))\n",
    "             if file.endswith('.csv')]\n",
    "    parameters = [parameter + '__0_0' for parameter in model_parameters[model]]\n",
    "    \n",
    "    for file in files:\n",
    "        _, subject, _, _ = file.split('_')\n",
    "        subject = int(subject)\n",
    "        \n",
    "        estimates = pd.read_csv(os.path.join(base_dir, 'out_of_sample', model, file), index_col=0)\n",
    "        converged = np.alltrue(np.abs(estimates.loc[parameters, 'Rhat'] - 1) < epsilon)\n",
    "        if not converged:\n",
    "            print('No convergence for subject {}, {} model.'.format(subject, model))\n",
    "        result = pd.DataFrame(dict(subject=subject,\n",
    "                                   model=model,\n",
    "                                   converged=converged),\n",
    "                              index=np.ones(1) * subject)\n",
    "        results_oos.append(result)\n",
    "        \n",
    "results_oos = pd.concat(results_oos).sort_values(['subject', 'model']).reset_index(drop=True)\n",
    "if (results_oos['converged'].mean() == 1.0):\n",
    "    print('Out-of-sample fits have converged for all participants and models.')"
   ]
  },
  {
   "cell_type": "code",
   "execution_count": null,
   "metadata": {
    "collapsed": true
   },
   "outputs": [],
   "source": []
  }
 ],
 "metadata": {
  "kernelspec": {
   "display_name": "Python [Root]",
   "language": "python",
   "name": "Python [Root]"
  },
  "language_info": {
   "codemirror_mode": {
    "name": "ipython",
    "version": 3
   },
   "file_extension": ".py",
   "mimetype": "text/x-python",
   "name": "python",
   "nbconvert_exporter": "python",
   "pygments_lexer": "ipython3",
   "version": "3.5.2"
  }
 },
 "nbformat": 4,
 "nbformat_minor": 2
}
