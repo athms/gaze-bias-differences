{
 "cells": [
  {
   "cell_type": "code",
   "execution_count": 1,
   "metadata": {},
   "outputs": [
    {
     "name": "stderr",
     "output_type": "stream",
     "text": [
      "/Users/felixmolter/anaconda3/lib/python3.6/site-packages/h5py/__init__.py:36: FutureWarning: Conversion of the second argument of issubdtype from `float` to `np.floating` is deprecated. In future, it will be treated as `np.float64 == np.dtype(float).type`.\n",
      "  from ._conv import register_converters as _register_converters\n"
     ]
    }
   ],
   "source": [
    "import numpy as np\n",
    "import pandas as pd\n",
    "import os\n",
    "from bambi import Model\n",
    "\n",
    "import matplotlib.pyplot as plt\n",
    "import matplotlib.patches as mpatches\n",
    "%matplotlib inline\n",
    "\n",
    "from plotting_functions import plot_correlation, cm2inch, show_img\n",
    "from pymc3 import plot_posterior"
   ]
  },
  {
   "cell_type": "code",
   "execution_count": 2,
   "metadata": {},
   "outputs": [],
   "source": [
    "# load parameter recovery results:\n",
    "recovery_dir = os.path.join('results', 'parameter_recovery')\n",
    "files = [file for file in os.listdir(recovery_dir)\n",
    "         if file.endswith('.csv')]\n",
    "\n",
    "results = []\n",
    "\n",
    "parameters = ['v', 'gamma', 's', 'tau']\n",
    "\n",
    "dataset = np.array(39 * ['krajbich2010'] + 30 * ['krajbich2011'] + 24 * ['folke2016'] + 25 * ['tavares2017'])\n",
    "\n",
    "for file in files:\n",
    "    _, _, subject, _, _ = file.split('_')\n",
    "    subject = int(subject)\n",
    "    result = pd.read_csv(os.path.join(recovery_dir, file), index_col=0)\n",
    "    results.append(pd.DataFrame(dict(subject=np.ones(len(parameters)).astype(int) * subject,\n",
    "                                     dataset=[dataset[subject]] * len(parameters),\n",
    "                                     parameter=parameters,\n",
    "                                     generating=result.loc[[parameter + '__0_0'\n",
    "                                                            for parameter in parameters],\n",
    "                                                           'generating'],\n",
    "                                     recovered=result.loc[[parameter + '__0_0'\n",
    "                                                           for parameter in parameters],\n",
    "                                                          'MAP'])))\n",
    "results = pd.concat(results).sort_values(['subject', 'parameter']).reset_index(drop=True)"
   ]
  },
  {
   "cell_type": "code",
   "execution_count": 3,
   "metadata": {},
   "outputs": [
    {
     "data": {
      "text/html": [
       "<div>\n",
       "<style scoped>\n",
       "    .dataframe tbody tr th:only-of-type {\n",
       "        vertical-align: middle;\n",
       "    }\n",
       "\n",
       "    .dataframe tbody tr th {\n",
       "        vertical-align: top;\n",
       "    }\n",
       "\n",
       "    .dataframe thead th {\n",
       "        text-align: right;\n",
       "    }\n",
       "</style>\n",
       "<table border=\"1\" class=\"dataframe\">\n",
       "  <thead>\n",
       "    <tr style=\"text-align: right;\">\n",
       "      <th></th>\n",
       "      <th>subject</th>\n",
       "      <th>dataset</th>\n",
       "      <th>parameter</th>\n",
       "      <th>generating</th>\n",
       "      <th>recovered</th>\n",
       "    </tr>\n",
       "  </thead>\n",
       "  <tbody>\n",
       "    <tr>\n",
       "      <th>0</th>\n",
       "      <td>0</td>\n",
       "      <td>krajbich2010</td>\n",
       "      <td>gamma</td>\n",
       "      <td>0.790000</td>\n",
       "      <td>0.980000</td>\n",
       "    </tr>\n",
       "    <tr>\n",
       "      <th>1</th>\n",
       "      <td>0</td>\n",
       "      <td>krajbich2010</td>\n",
       "      <td>s</td>\n",
       "      <td>0.010750</td>\n",
       "      <td>0.010854</td>\n",
       "    </tr>\n",
       "    <tr>\n",
       "      <th>2</th>\n",
       "      <td>0</td>\n",
       "      <td>krajbich2010</td>\n",
       "      <td>tau</td>\n",
       "      <td>0.490000</td>\n",
       "      <td>0.810000</td>\n",
       "    </tr>\n",
       "    <tr>\n",
       "      <th>3</th>\n",
       "      <td>0</td>\n",
       "      <td>krajbich2010</td>\n",
       "      <td>v</td>\n",
       "      <td>0.000084</td>\n",
       "      <td>0.000074</td>\n",
       "    </tr>\n",
       "    <tr>\n",
       "      <th>4</th>\n",
       "      <td>1</td>\n",
       "      <td>krajbich2010</td>\n",
       "      <td>gamma</td>\n",
       "      <td>-0.130000</td>\n",
       "      <td>0.280000</td>\n",
       "    </tr>\n",
       "  </tbody>\n",
       "</table>\n",
       "</div>"
      ],
      "text/plain": [
       "   subject       dataset parameter  generating  recovered\n",
       "0        0  krajbich2010     gamma    0.790000   0.980000\n",
       "1        0  krajbich2010         s    0.010750   0.010854\n",
       "2        0  krajbich2010       tau    0.490000   0.810000\n",
       "3        0  krajbich2010         v    0.000084   0.000074\n",
       "4        1  krajbich2010     gamma   -0.130000   0.280000"
      ]
     },
     "execution_count": 3,
     "metadata": {},
     "output_type": "execute_result"
    }
   ],
   "source": [
    "results.head()"
   ]
  },
  {
   "cell_type": "code",
   "execution_count": 4,
   "metadata": {},
   "outputs": [],
   "source": [
    "def figure_si_6(results, figsize=cm2inch(18, 5), colors=None, fontsize=7, plot_legend=False):\n",
    "\n",
    "    datasets = ['krajbich2010', 'krajbich2011', 'folke2016', 'tavares2017']\n",
    "\n",
    "    if colors is None:\n",
    "        colors = np.array(['C{}'.format(i)\n",
    "                           for i in range(results['dataset'].unique().size)])\n",
    "\n",
    "    parameters = ['v', 'gamma', 's', 'tau']\n",
    "    parameter_labels = [r'$v$', r'$\\gamma$', r'$\\sigma$', r'$\\tau$']\n",
    "    parameter_limits = [(0, 0.000225), (-1.5, 1.25), (0, 0.0225), (0, 5.5)]\n",
    "    parameter_ticks = [[0, 0.0001, 0.0002], [-1, 0, 1], [0, 0.01, 0.02], [0, 1, 2, 3, 4, 5]]\n",
    "    fig, axs = plt.subplots(1, 4, figsize=figsize)\n",
    "\n",
    "    for p, (parameter, label, limits, ticks) in enumerate(zip(parameters, \n",
    "                                                              parameter_labels,\n",
    "                                                              parameter_limits,\n",
    "                                                              parameter_ticks)):\n",
    "        results_parameter = results.loc[results['parameter'] == parameter]\n",
    "        color_idx = pd.Categorical(results_parameter['dataset'], categories=datasets, ordered=True).codes.astype(int)\n",
    "        axs[p].scatter(results_parameter['generating'],\n",
    "                       results_parameter['recovered'],\n",
    "                       marker='o',\n",
    "                       color='none',\n",
    "                       edgecolor=colors[color_idx],\n",
    "                       linewidth=0.5,\n",
    "                       s=30)\n",
    "        axs[p].scatter(results_parameter['generating'],\n",
    "                       results_parameter['recovered'],\n",
    "                       marker='o',\n",
    "                       color=colors[color_idx],\n",
    "                       alpha=0.5,\n",
    "                       linewidth=0,\n",
    "                       s=30)\n",
    "        axs[p].set_xlim(limits)\n",
    "        axs[p].set_ylim(limits)\n",
    "        axs[p].set_title(label, fontsize=fontsize)\n",
    "        axs[p].set_xlabel('Generating', fontsize=fontsize)\n",
    "        axs[p].set_ylabel('Recovered', fontsize=fontsize)\n",
    "        axs[p].set_xticks(ticks)\n",
    "        axs[p].set_yticks(ticks)\n",
    "        axs[p].set_xticklabels(ticks, fontsize=fontsize)\n",
    "        axs[p].set_yticklabels(ticks, fontsize=fontsize)\n",
    "\n",
    "    if plot_legend:\n",
    "        patches = [mpatches.Rectangle((0, 0), 0.5, 1, fc=\"C{}\".format(i))\n",
    "                   for i in range(len(datasets))]\n",
    "        axs[0].legend(patches,\n",
    "                      ['Krajbich 2010', 'Krajbich 2011', 'Folke 2016', 'Tavares 2017'],\n",
    "                      loc='lower right',\n",
    "                      handlelength=1, handleheight=1,\n",
    "                      fontsize=5,\n",
    "                      frameon=False)\n",
    "\n",
    "    # Labels\n",
    "    for label, ax in zip(list('abcd'), axs.ravel()):\n",
    "        ax.text(-0.3, 1.1, label, transform=ax.transAxes,\n",
    "                fontsize=fontsize, fontweight='bold', va='top')\n",
    "        ax.spines['top'].set_visible(False)\n",
    "        ax.spines['right'].set_visible(False)\n",
    "\n",
    "        # Font sizes\n",
    "        ax.tick_params(axis='both', labelsize=fontsize)\n",
    "\n",
    "        # Plot diagonal\n",
    "        ax.plot(ax.get_xlim(), ax.get_xlim(), color='black', alpha=1, linewidth=1, zorder=-1)\n",
    "        \n",
    "    fig.tight_layout()\n",
    "\n",
    "    return fig, axs"
   ]
  },
  {
   "cell_type": "code",
   "execution_count": 5,
   "metadata": {
    "scrolled": true
   },
   "outputs": [
    {
     "data": {
      "image/png": "[encoded data removed]",
      "text/plain": [
       "<Figure size 510.236x141.732 with 4 Axes>"
      ]
     },
     "metadata": {},
     "output_type": "display_data"
    }
   ],
   "source": [
    "figure_si_6(results);\n",
    "plt.savefig('results/figures/si_figure_6_parameter_recovery.png', dpi=330, bbox_inches='tight')\n",
    "plt.savefig('results/figures/si_figure_6_parameter_recovery.pdf', dpi=330, bbox_inches='tight')\n",
    "plt.show()"
   ]
  },
  {
   "cell_type": "markdown",
   "metadata": {},
   "source": [
    "# Bias Analyses"
   ]
  },
  {
   "cell_type": "code",
   "execution_count": 6,
   "metadata": {},
   "outputs": [
    {
     "data": {
      "text/html": [
       "<div>\n",
       "<style scoped>\n",
       "    .dataframe tbody tr th:only-of-type {\n",
       "        vertical-align: middle;\n",
       "    }\n",
       "\n",
       "    .dataframe tbody tr th {\n",
       "        vertical-align: top;\n",
       "    }\n",
       "\n",
       "    .dataframe thead th {\n",
       "        text-align: right;\n",
       "    }\n",
       "</style>\n",
       "<table border=\"1\" class=\"dataframe\">\n",
       "  <thead>\n",
       "    <tr style=\"text-align: right;\">\n",
       "      <th></th>\n",
       "      <th>subject</th>\n",
       "      <th>dataset</th>\n",
       "      <th>parameter</th>\n",
       "      <th>type</th>\n",
       "      <th>value</th>\n",
       "      <th>is_recovered</th>\n",
       "    </tr>\n",
       "  </thead>\n",
       "  <tbody>\n",
       "    <tr>\n",
       "      <th>0</th>\n",
       "      <td>0</td>\n",
       "      <td>krajbich2010</td>\n",
       "      <td>gamma</td>\n",
       "      <td>generating</td>\n",
       "      <td>0.790000</td>\n",
       "      <td>0.0</td>\n",
       "    </tr>\n",
       "    <tr>\n",
       "      <th>1</th>\n",
       "      <td>0</td>\n",
       "      <td>krajbich2010</td>\n",
       "      <td>gamma</td>\n",
       "      <td>recovered</td>\n",
       "      <td>0.980000</td>\n",
       "      <td>1.0</td>\n",
       "    </tr>\n",
       "    <tr>\n",
       "      <th>2</th>\n",
       "      <td>0</td>\n",
       "      <td>krajbich2010</td>\n",
       "      <td>s</td>\n",
       "      <td>generating</td>\n",
       "      <td>0.010750</td>\n",
       "      <td>0.0</td>\n",
       "    </tr>\n",
       "    <tr>\n",
       "      <th>3</th>\n",
       "      <td>0</td>\n",
       "      <td>krajbich2010</td>\n",
       "      <td>s</td>\n",
       "      <td>recovered</td>\n",
       "      <td>0.010854</td>\n",
       "      <td>1.0</td>\n",
       "    </tr>\n",
       "    <tr>\n",
       "      <th>4</th>\n",
       "      <td>0</td>\n",
       "      <td>krajbich2010</td>\n",
       "      <td>tau</td>\n",
       "      <td>generating</td>\n",
       "      <td>0.490000</td>\n",
       "      <td>0.0</td>\n",
       "    </tr>\n",
       "  </tbody>\n",
       "</table>\n",
       "</div>"
      ],
      "text/plain": [
       "   subject       dataset parameter        type     value  is_recovered\n",
       "0        0  krajbich2010     gamma  generating  0.790000           0.0\n",
       "1        0  krajbich2010     gamma   recovered  0.980000           1.0\n",
       "2        0  krajbich2010         s  generating  0.010750           0.0\n",
       "3        0  krajbich2010         s   recovered  0.010854           1.0\n",
       "4        0  krajbich2010       tau  generating  0.490000           0.0"
      ]
     },
     "execution_count": 6,
     "metadata": {},
     "output_type": "execute_result"
    }
   ],
   "source": [
    "df = results.melt(id_vars=['subject', 'dataset', 'parameter'], value_vars=['generating', 'recovered'], var_name='type').sort_values(['subject', 'parameter']).reset_index(drop=True)\n",
    "df['is_recovered'] = (df['type'] == 'recovered').astype(float)\n",
    "df.head()"
   ]
  },
  {
   "cell_type": "code",
   "execution_count": 7,
   "metadata": {
    "scrolled": false
   },
   "outputs": [
    {
     "name": "stdout",
     "output_type": "stream",
     "text": [
      "v\n"
     ]
    },
    {
     "name": "stderr",
     "output_type": "stream",
     "text": [
      "/Users/felixmolter/anaconda3/lib/python3.6/site-packages/pandas/core/generic.py:4384: FutureWarning: Attribute 'is_copy' is deprecated and will be removed in a future version.\n",
      "  object.__getattribute__(self, name)\n",
      "/Users/felixmolter/anaconda3/lib/python3.6/site-packages/pandas/core/generic.py:4385: FutureWarning: Attribute 'is_copy' is deprecated and will be removed in a future version.\n",
      "  return object.__setattr__(self, name, value)\n",
      "Auto-assigning NUTS sampler...\n",
      "Initializing NUTS using advi...\n",
      "Average Loss = 8,825.4: 100%|██████████| 50000/50000 [00:40<00:00, 1227.10it/s]   \n",
      "Finished [100%]: Average Loss = 8,768.7\n",
      "Multiprocess sampling (2 chains in 2 jobs)\n",
      "NUTS: [value_sd, is_recovered|dataset_offset, is_recovered|dataset_sd, 1|dataset_offset, 1|dataset_sd, is_recovered, Intercept]\n",
      "Sampling 2 chains: 100%|██████████| 61000/61000 [42:04<00:00, 12.55draws/s]\n",
      "The number of effective samples is smaller than 25% for some parameters.\n"
     ]
    },
    {
     "name": "stdout",
     "output_type": "stream",
     "text": [
      "                                            mean        sd  hpd0.95_lower  \\\n",
      "is_recovered|dataset_sd             6.951740e-06  0.000009   4.149151e-11   \n",
      "is_recovered|dataset[folke2016]    -4.179241e-07  0.000007  -1.428727e-05   \n",
      "is_recovered|dataset[krajbich2010] -2.107000e-07  0.000007  -1.333805e-05   \n",
      "is_recovered|dataset[krajbich2011]  1.790401e-07  0.000007  -1.327700e-05   \n",
      "is_recovered|dataset[tavares2017]   4.142537e-07  0.000007  -1.297363e-05   \n",
      "1|dataset[folke2016]               -3.744099e-05  0.000015  -6.945447e-05   \n",
      "1|dataset[krajbich2010]             1.270730e-05  0.000015  -1.855124e-05   \n",
      "1|dataset[krajbich2011]             2.604384e-06  0.000015  -2.838402e-05   \n",
      "1|dataset[tavares2017]              2.132381e-05  0.000015  -1.064517e-05   \n",
      "is_recovered                       -4.258305e-09  0.000007  -1.208974e-05   \n",
      "Intercept                           6.499155e-05  0.000015   3.434362e-05   \n",
      "value_sd                            3.022045e-05  0.000001   2.750301e-05   \n",
      "1|dataset_sd                        2.958834e-05  0.000011   1.228271e-05   \n",
      "\n",
      "                                    hpd0.95_upper  effective_n  gelman_rubin  \n",
      "is_recovered|dataset_sd                  0.000021        14559      0.999996  \n",
      "is_recovered|dataset[folke2016]          0.000013        35239      1.000005  \n",
      "is_recovered|dataset[krajbich2010]       0.000013        33201      0.999998  \n",
      "is_recovered|dataset[krajbich2011]       0.000013        33747      0.999986  \n",
      "is_recovered|dataset[tavares2017]        0.000014        35476      0.999993  \n",
      "1|dataset[folke2016]                    -0.000008        40785      1.000004  \n",
      "1|dataset[krajbich2010]                  0.000043        40210      1.000018  \n",
      "1|dataset[krajbich2011]                  0.000033        40828      1.000024  \n",
      "1|dataset[tavares2017]                   0.000051        40301      1.000032  \n",
      "is_recovered                             0.000012        34719      0.999990  \n",
      "Intercept                                0.000095        40214      1.000021  \n",
      "value_sd                                 0.000033        47475      0.999984  \n",
      "1|dataset_sd                             0.000052        41971      0.999984  \n"
     ]
    },
    {
     "data": {
      "image/png": "[encoded data removed]",
      "text/plain": [
       "<Figure size 432x288 with 1 Axes>"
      ]
     },
     "metadata": {},
     "output_type": "display_data"
    },
    {
     "name": "stdout",
     "output_type": "stream",
     "text": [
      "gamma\n"
     ]
    },
    {
     "name": "stderr",
     "output_type": "stream",
     "text": [
      "/Users/felixmolter/anaconda3/lib/python3.6/site-packages/pandas/core/generic.py:4384: FutureWarning: Attribute 'is_copy' is deprecated and will be removed in a future version.\n",
      "  object.__getattribute__(self, name)\n",
      "/Users/felixmolter/anaconda3/lib/python3.6/site-packages/pandas/core/generic.py:4385: FutureWarning: Attribute 'is_copy' is deprecated and will be removed in a future version.\n",
      "  return object.__setattr__(self, name, value)\n",
      "Auto-assigning NUTS sampler...\n",
      "Initializing NUTS using advi...\n",
      "Average Loss = 135.3:  37%|███▋      | 18653/50000 [00:15<00:25, 1238.69it/s] \n",
      "Convergence achieved at 18700\n",
      "Interrupted at 18,699 [37%]: Average Loss = 577.64\n",
      "Multiprocess sampling (2 chains in 2 jobs)\n",
      "NUTS: [value_sd, is_recovered|dataset_offset, is_recovered|dataset_sd, 1|dataset_offset, 1|dataset_sd, is_recovered, Intercept]\n",
      "Sampling 2 chains: 100%|██████████| 61000/61000 [03:08<00:00, 323.82draws/s]\n",
      "There were 83 divergences after tuning. Increase `target_accept` or reparameterize.\n",
      "There were 153 divergences after tuning. Increase `target_accept` or reparameterize.\n",
      "The number of effective samples is smaller than 10% for some parameters.\n"
     ]
    },
    {
     "name": "stdout",
     "output_type": "stream",
     "text": [
      "                                        mean        sd  hpd0.95_lower  \\\n",
      "is_recovered|dataset_sd             0.087479  0.098996       0.000001   \n",
      "is_recovered|dataset[folke2016]    -0.007391  0.078848      -0.179695   \n",
      "is_recovered|dataset[krajbich2010] -0.009652  0.075945      -0.184323   \n",
      "is_recovered|dataset[krajbich2011]  0.007401  0.075575      -0.153483   \n",
      "is_recovered|dataset[tavares2017]   0.006528  0.077864      -0.153656   \n",
      "1|dataset[folke2016]               -0.099469  0.094485      -0.299020   \n",
      "1|dataset[krajbich2010]             0.085934  0.090272      -0.082528   \n",
      "1|dataset[krajbich2011]             0.034938  0.088481      -0.145946   \n",
      "1|dataset[tavares2017]             -0.025622  0.088999      -0.209345   \n",
      "is_recovered                       -0.033902  0.077722      -0.186047   \n",
      "Intercept                           0.136625  0.084162      -0.045565   \n",
      "value_sd                            0.389910  0.011266       0.368768   \n",
      "1|dataset_sd                        0.137915  0.087983       0.000003   \n",
      "\n",
      "                                    hpd0.95_upper  effective_n  gelman_rubin  \n",
      "is_recovered|dataset_sd                  0.269891         3305      1.000018  \n",
      "is_recovered|dataset[folke2016]          0.157398         7607      1.000174  \n",
      "is_recovered|dataset[krajbich2010]       0.145050         6556      1.000179  \n",
      "is_recovered|dataset[krajbich2011]       0.171411         6041      1.000210  \n",
      "is_recovered|dataset[tavares2017]        0.178103         6568      1.000037  \n",
      "1|dataset[folke2016]                     0.070924         6295      1.000455  \n",
      "1|dataset[krajbich2010]                  0.280246         6147      1.000389  \n",
      "1|dataset[krajbich2011]                  0.221465         6232      1.000630  \n",
      "1|dataset[tavares2017]                   0.156183         6387      1.000545  \n",
      "is_recovered                             0.121633         5934      1.000245  \n",
      "Intercept                                0.300313         5152      1.000713  \n",
      "value_sd                                 0.406005        36382      0.999996  \n",
      "1|dataset_sd                             0.309430         7887      1.000036  \n"
     ]
    },
    {
     "data": {
      "image/png": "[encoded data removed]",
      "text/plain": [
       "<Figure size 432x288 with 1 Axes>"
      ]
     },
     "metadata": {},
     "output_type": "display_data"
    },
    {
     "name": "stdout",
     "output_type": "stream",
     "text": [
      "s\n"
     ]
    },
    {
     "name": "stderr",
     "output_type": "stream",
     "text": [
      "Auto-assigning NUTS sampler...\n",
      "Initializing NUTS using advi...\n",
      "Average Loss = -1,090.7:  91%|█████████▏| 45648/50000 [00:37<00:03, 1214.60it/s]  \n",
      "Convergence achieved at 45700\n",
      "Interrupted at 45,699 [91%]: Average Loss = 3.5883e+06\n",
      "Multiprocess sampling (2 chains in 2 jobs)\n",
      "NUTS: [value_sd, is_recovered|dataset_offset, is_recovered|dataset_sd, 1|dataset_offset, 1|dataset_sd, is_recovered, Intercept]\n",
      "Sampling 2 chains: 100%|██████████| 61000/61000 [14:00<00:00, 72.60draws/s]\n",
      "There was 1 divergence after tuning. Increase `target_accept` or reparameterize.\n",
      "The acceptance probability does not match the target. It is 0.890592701128019, but should be close to 0.8. Try to increase the number of tuning steps.\n",
      "The acceptance probability does not match the target. It is 0.887196398793421, but should be close to 0.8. Try to increase the number of tuning steps.\n",
      "The number of effective samples is smaller than 25% for some parameters.\n"
     ]
    },
    {
     "name": "stdout",
     "output_type": "stream",
     "text": [
      "                                        mean        sd  hpd0.95_lower  \\\n",
      "is_recovered|dataset_sd             0.000413  0.000507   1.175473e-08   \n",
      "is_recovered|dataset[folke2016]     0.000017  0.000392  -7.983618e-04   \n",
      "is_recovered|dataset[krajbich2010]  0.000021  0.000379  -7.571990e-04   \n",
      "is_recovered|dataset[krajbich2011] -0.000074  0.000390  -9.202820e-04   \n",
      "is_recovered|dataset[tavares2017]   0.000037  0.000392  -7.435034e-04   \n",
      "1|dataset[folke2016]               -0.002512  0.001158  -4.813972e-03   \n",
      "1|dataset[krajbich2010]             0.000235  0.001150  -2.105002e-03   \n",
      "1|dataset[krajbich2011]            -0.000627  0.001154  -2.960165e-03   \n",
      "1|dataset[tavares2017]              0.002898  0.001158   5.292771e-04   \n",
      "is_recovered                       -0.000285  0.000384  -9.891638e-04   \n",
      "Intercept                           0.008369  0.001141   6.124589e-03   \n",
      "value_sd                            0.001721  0.000080   1.567019e-03   \n",
      "1|dataset_sd                        0.002333  0.000750   1.096532e-03   \n",
      "\n",
      "                                    hpd0.95_upper  effective_n  gelman_rubin  \n",
      "is_recovered|dataset_sd                  0.001286        20949      0.999994  \n",
      "is_recovered|dataset[folke2016]          0.000801        30883      0.999996  \n",
      "is_recovered|dataset[krajbich2010]       0.000785        28394      0.999991  \n",
      "is_recovered|dataset[krajbich2011]       0.000643        30992      1.000021  \n",
      "is_recovered|dataset[tavares2017]        0.000857        30220      0.999984  \n",
      "1|dataset[folke2016]                    -0.000172        10257      1.000071  \n",
      "1|dataset[krajbich2010]                  0.002523        10179      1.000030  \n",
      "1|dataset[krajbich2011]                  0.001686        10416      1.000061  \n",
      "1|dataset[tavares2017]                   0.005192        10366      1.000057  \n",
      "is_recovered                             0.000446        29690      0.999991  \n",
      "Intercept                                0.010725         9904      1.000045  \n",
      "value_sd                                 0.001882        55253      0.999984  \n",
      "1|dataset_sd                             0.003825        17448      1.000036  \n"
     ]
    },
    {
     "data": {
      "image/png": "[encoded data removed]",
      "text/plain": [
       "<Figure size 432x288 with 1 Axes>"
      ]
     },
     "metadata": {},
     "output_type": "display_data"
    },
    {
     "name": "stdout",
     "output_type": "stream",
     "text": [
      "tau\n"
     ]
    },
    {
     "name": "stderr",
     "output_type": "stream",
     "text": [
      "Auto-assigning NUTS sampler...\n",
      "Initializing NUTS using advi...\n",
      "Average Loss = 286.87:  29%|██▉       | 14571/50000 [00:11<00:28, 1260.59it/s]\n",
      "Convergence achieved at 14600\n",
      "Interrupted at 14,599 [29%]: Average Loss = 530.41\n",
      "Multiprocess sampling (2 chains in 2 jobs)\n",
      "NUTS: [value_sd, is_recovered|dataset_offset, is_recovered|dataset_sd, 1|dataset_offset, 1|dataset_sd, is_recovered, Intercept]\n",
      "Sampling 2 chains: 100%|██████████| 61000/61000 [04:20<00:00, 233.95draws/s]\n",
      "There were 337 divergences after tuning. Increase `target_accept` or reparameterize.\n",
      "There were 79 divergences after tuning. Increase `target_accept` or reparameterize.\n",
      "The number of effective samples is smaller than 10% for some parameters.\n"
     ]
    },
    {
     "name": "stdout",
     "output_type": "stream",
     "text": [
      "                                        mean        sd  hpd0.95_lower  \\\n",
      "is_recovered|dataset_sd             0.171427  0.191797       0.000004   \n",
      "is_recovered|dataset[folke2016]     0.014241  0.155317      -0.303411   \n",
      "is_recovered|dataset[krajbich2010]  0.000210  0.147585      -0.318546   \n",
      "is_recovered|dataset[krajbich2011]  0.015668  0.150932      -0.313711   \n",
      "is_recovered|dataset[tavares2017]  -0.030665  0.154272      -0.383646   \n",
      "1|dataset[folke2016]                0.753607  0.349399       0.070554   \n",
      "1|dataset[krajbich2010]            -0.329672  0.345228      -1.017057   \n",
      "1|dataset[krajbich2011]             0.026229  0.346175      -0.685019   \n",
      "1|dataset[tavares2017]             -0.413127  0.351035      -1.124929   \n",
      "is_recovered                        0.045551  0.149053      -0.248105   \n",
      "Intercept                           0.926238  0.340206       0.255271   \n",
      "value_sd                            0.743730  0.034783       0.676146   \n",
      "1|dataset_sd                        0.637339  0.249556       0.248613   \n",
      "\n",
      "                                    hpd0.95_upper  effective_n  gelman_rubin  \n",
      "is_recovered|dataset_sd                  0.534239         9787      1.000023  \n",
      "is_recovered|dataset[folke2016]          0.366882        17229      1.000024  \n",
      "is_recovered|dataset[krajbich2010]       0.316446        12566      1.000196  \n",
      "is_recovered|dataset[krajbich2011]       0.336622        12536      0.999998  \n",
      "is_recovered|dataset[tavares2017]        0.274286        10708      1.000165  \n",
      "1|dataset[folke2016]                     1.466746         1012      1.001111  \n",
      "1|dataset[krajbich2010]                  0.363144          963      1.001259  \n",
      "1|dataset[krajbich2011]                  0.709418         1001      1.001170  \n",
      "1|dataset[tavares2017]                   0.283241          940      1.001320  \n",
      "is_recovered                             0.345949        13224      1.000063  \n",
      "Intercept                                1.626750          918      1.001313  \n",
      "value_sd                                 0.812373        31846      0.999993  \n",
      "1|dataset_sd                             1.143974         1456      1.000528  \n"
     ]
    },
    {
     "data": {
      "image/png": "[encoded data removed]",
      "text/plain": [
       "<Figure size 432x288 with 1 Axes>"
      ]
     },
     "metadata": {},
     "output_type": "display_data"
    }
   ],
   "source": [
    "bias_analysis_results = {}\n",
    "models = {}\n",
    "n_samples = 30000\n",
    "parameters = ['v', 'gamma', 's', 'tau']\n",
    "for parameter in parameters:\n",
    "    print(parameter)\n",
    "    result_path = 'results/mixed_effects_models/si6_parameter_recovery_{}_bias_analysis.csv'.format(parameter)\n",
    "    plot_path = 'results/mixed_effects_models/si6_parameter_recovery_{}_bias_analysis.png'.format(parameter)\n",
    "    if (not os.path.isfile(result_path)) or (not os.path.isfile(plot_path)):\n",
    "        model = Model(df.loc[df['parameter'] == parameter].reset_index(drop=True).copy())\n",
    "        models[parameter] = model\n",
    "        result_fit = model.fit('value ~ is_recovered',\n",
    "                           random=['is_recovered|dataset'],\n",
    "                           categorical=['dataset'],\n",
    "                           samples=n_samples,\n",
    "                           chains=2)\n",
    "        # save summary\n",
    "        result = result_fit.summary(ranefs=True)\n",
    "        print(result)\n",
    "        result.to_csv(result_path)\n",
    "        # save posteriorplot\n",
    "        plot_posterior(model.backend.trace,\n",
    "                       varnames=['is_recovered'],\n",
    "                       round_to=5,\n",
    "                       point_estimate='mode',\n",
    "                       ref_val=0)\n",
    "        plt.savefig(plot_path, dpi=330)\n",
    "        plt.show()\n",
    "    else:\n",
    "        print('Results loaded from: {}'.format(result_path))\n",
    "        result = pd.read_csv(result_path)\n",
    "        print(result)\n",
    "        show_img(plot_path)\n",
    "        \n",
    "    # bias_analysis_results[parameter] = result "
   ]
  }
 ],
 "metadata": {
  "kernelspec": {
   "display_name": "Python 3",
   "language": "python",
   "name": "python3"
  },
  "language_info": {
   "codemirror_mode": {
    "name": "ipython",
    "version": 3
   },
   "file_extension": ".py",
   "mimetype": "text/x-python",
   "name": "python",
   "nbconvert_exporter": "python",
   "pygments_lexer": "ipython3",
   "version": "3.6.5"
  },
  "toc": {
   "colors": {
    "hover_highlight": "#DAA520",
    "running_highlight": "#FF0000",
    "selected_highlight": "#FFD700"
   },
   "moveMenuLeft": true,
   "nav_menu": {
    "height": "30px",
    "width": "252px"
   },
   "navigate_menu": true,
   "number_sections": true,
   "sideBar": true,
   "threshold": 4,
   "toc_cell": false,
   "toc_section_display": "block",
   "toc_window_display": false,
   "widenNotebook": false
  }
 },
 "nbformat": 4,
 "nbformat_minor": 2
}
