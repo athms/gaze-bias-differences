{
 "cells": [
  {
   "cell_type": "code",
   "execution_count": 1,
   "metadata": {},
   "outputs": [],
   "source": [
    "import numpy as np\n",
    "import pandas as pd\n",
    "from tqdm import tqdm_notebook as tqdm\n",
    "from os.path import join"
   ]
  },
  {
   "cell_type": "code",
   "execution_count": 2,
   "metadata": {},
   "outputs": [],
   "source": [
    "def scale(x, a, b):\n",
    "    \"\"\"\n",
    "    Linearly scales an array's values\n",
    "    to a range between a and b.\n",
    "    \"\"\"\n",
    "    return (b - a) * (x - x.min()) / (x.max() - x.min()) + a"
   ]
  },
  {
   "cell_type": "markdown",
   "metadata": {},
   "source": [
    "# Krajbich 2010\n",
    "- Data from: original author"
   ]
  },
  {
   "cell_type": "code",
   "execution_count": 3,
   "metadata": {},
   "outputs": [
    {
     "data": {
      "application/vnd.jupyter.widget-view+json": {
       "model_id": "26f6e32b74234fc2a8ca66453933eb80",
       "version_major": 2,
       "version_minor": 0
      },
      "text/plain": [
       "HBox(children=(IntProgress(value=1, bar_style='info', max=1), HTML(value='')))"
      ]
     },
     "metadata": {},
     "output_type": "display_data"
    },
    {
     "name": "stdout",
     "output_type": "stream",
     "text": [
      "\n"
     ]
    }
   ],
   "source": [
    "krajbich2010_raw = pd.read_stata(join('data', 'krajbich_2010_natneuro', 'original', 'data_nature2010.dta'))\n",
    "\n",
    "krajbich2010_prep_all_list = []\n",
    "krajbich2010_prep_nofirst_list = []\n",
    "\n",
    "for s, subject in tqdm(enumerate(krajbich2010_raw['subject'].unique())):\n",
    "    subject_data = krajbich2010_raw.loc[krajbich2010_raw['subject'] == subject].copy()\n",
    "    for t, trial in enumerate(subject_data['trial'].unique()):\n",
    "        trial_data = subject_data.loc[subject_data['trial'] == trial]\n",
    "        trial_data_nofirst = trial_data.loc[trial_data['fix_num'] != 1]\n",
    "        \n",
    "        trial_data_prep_all = pd.DataFrame(dict(subject=s,\n",
    "                                                trial=t,\n",
    "                                                rt=trial_data['rt'].values[0],\n",
    "                                                choice=(1 - trial_data['choice'].values[0]),\n",
    "                                                item_value_0=trial_data['leftrating'].values[0],\n",
    "                                                item_value_1=trial_data['rightrating'].values[0],\n",
    "                                                gaze_0=trial_data.loc[trial_data['roi'] == 1, 'event_duration'].sum() / trial_data['event_duration'].sum(),\n",
    "                                                gaze_1=trial_data.loc[trial_data['roi'] == 2, 'event_duration'].sum() / trial_data['event_duration'].sum()),\n",
    "                                           index=np.ones(1)*t) \n",
    "        krajbich2010_prep_all_list.append(trial_data_prep_all)\n",
    "\n",
    "        if len(trial_data_nofirst) > 0:\n",
    "            trial_data_prep_nofirst = pd.DataFrame(dict(subject=s,\n",
    "                                                        trial=t,\n",
    "                                                        rt=trial_data_nofirst['rt'].values[0],\n",
    "                                                        choice=(1 - trial_data_nofirst['choice'].values[0]),\n",
    "                                                        item_value_0=trial_data_nofirst['leftrating'].values[0],\n",
    "                                                        item_value_1=trial_data_nofirst['rightrating'].values[0],\n",
    "                                                        gaze_0=trial_data_nofirst.loc[trial_data_nofirst['roi'] == 1, 'event_duration'].sum() / trial_data_nofirst['event_duration'].sum(),\n",
    "                                                        gaze_1=trial_data_nofirst.loc[trial_data_nofirst['roi'] == 2, 'event_duration'].sum() / trial_data_nofirst['event_duration'].sum()),\n",
    "                                               index=np.ones(1)*t) \n",
    "\n",
    "            krajbich2010_prep_nofirst_list.append(trial_data_prep_nofirst)\n",
    "        \n",
    "    del subject_data, trial_data, trial_data_prep_all, trial_data_prep_nofirst\n",
    "\n",
    "krajbich2010_prep_all = pd.concat(krajbich2010_prep_all_list).reset_index(drop=True)\n",
    "del krajbich2010_prep_all_list\n",
    "krajbich2010_prep_nofirst = pd.concat(krajbich2010_prep_nofirst_list).reset_index(drop=True)\n",
    "del krajbich2010_prep_nofirst_list\n",
    "\n",
    "krajbich2010_prep_nofirst.dropna(inplace=True) # remove trials without gaze data\n",
    "krajbich2010_prep_all.to_csv(join('data', 'krajbich_2010_natneuro', 'krajbich2010_prep_all.csv'), index=False)\n",
    "krajbich2010_prep_nofirst.to_csv(join('data', 'krajbich_2010_natneuro', 'krajbich2010_prep_nofirst.csv'), index=False)"
   ]
  },
  {
   "cell_type": "markdown",
   "metadata": {},
   "source": [
    "# Krajbich 2011\n",
    "- Data from: original author"
   ]
  },
  {
   "cell_type": "code",
   "execution_count": 4,
   "metadata": {},
   "outputs": [
    {
     "data": {
      "application/vnd.jupyter.widget-view+json": {
       "model_id": "29fecfe199004638b0387f3fc5afc53d",
       "version_major": 2,
       "version_minor": 0
      },
      "text/plain": [
       "HBox(children=(IntProgress(value=1, bar_style='info', max=1), HTML(value='')))"
      ]
     },
     "metadata": {},
     "output_type": "display_data"
    },
    {
     "name": "stdout",
     "output_type": "stream",
     "text": [
      "\n"
     ]
    }
   ],
   "source": [
    "krajbich2011_raw = pd.read_csv(join('data', 'krajbich_2011_pnas', 'original', 'data_pnas2011.csv'), index_col=0)\n",
    "\n",
    "krajbich2011_prep_all_list = []\n",
    "krajbich2011_prep_nofirst_list = []\n",
    "\n",
    "for s, subject in tqdm(enumerate(krajbich2011_raw['subject'].unique())):\n",
    "    subject_data = krajbich2011_raw.loc[krajbich2011_raw['subject'] == subject].copy()\n",
    "    subject_data['fixation_position'] = np.argmax(subject_data[['leftroi', 'middleroi', 'rightroi']].values, axis=1)\n",
    "    subject_data['choice'] = np.argmax(subject_data[['choice1', 'choice2', 'choice3']].values, axis=1)\n",
    "    for t, trial in enumerate(subject_data['trial'].unique()):\n",
    "        trial_data = subject_data.loc[subject_data['trial'] == trial]\n",
    "        trial_data_nofirst = trial_data.loc[trial_data['fix_num'] != 1]\n",
    "        \n",
    "        trial_data_prep_all = pd.DataFrame(dict(subject=s,\n",
    "                                                trial=t,\n",
    "                                                rt=trial_data['rt'].values[0],\n",
    "                                                choice=trial_data['choice'].values[0],\n",
    "                                                item_value_0=trial_data['rating1'].values[0],\n",
    "                                                item_value_1=trial_data['rating2'].values[0],\n",
    "                                                item_value_2=trial_data['rating3'].values[0],                                                \n",
    "                                                gaze_0=trial_data.loc[trial_data['fixation_position'] == 0, 'eventduration'].sum() / trial_data['eventduration'].sum(),\n",
    "                                                gaze_1=trial_data.loc[trial_data['fixation_position'] == 1, 'eventduration'].sum() / trial_data['eventduration'].sum(),\n",
    "                                                gaze_2=trial_data.loc[trial_data['fixation_position'] == 2, 'eventduration'].sum() / trial_data['eventduration'].sum()),\n",
    "                                           index=np.ones(1)*t)\n",
    "        krajbich2011_prep_all_list.append(trial_data_prep_all)\n",
    "\n",
    "        if len(trial_data_nofirst) > 0:\n",
    "            trial_data_prep_nofirst = pd.DataFrame(dict(subject=s,\n",
    "                                                        trial=t,\n",
    "                                                        rt=trial_data_nofirst['rt'].values[0],\n",
    "                                                        choice=trial_data_nofirst['choice'].values[0],\n",
    "                                                        item_value_0=trial_data_nofirst['rating1'].values[0],\n",
    "                                                        item_value_1=trial_data_nofirst['rating2'].values[0],\n",
    "                                                        item_value_2=trial_data_nofirst['rating3'].values[0],                                                \n",
    "                                                        gaze_0=trial_data_nofirst.loc[trial_data_nofirst['fixation_position'] == 0, 'eventduration'].sum() / trial_data_nofirst['eventduration'].sum(),\n",
    "                                                        gaze_1=trial_data_nofirst.loc[trial_data_nofirst['fixation_position'] == 1, 'eventduration'].sum() / trial_data_nofirst['eventduration'].sum(),\n",
    "                                                        gaze_2=trial_data_nofirst.loc[trial_data_nofirst['fixation_position'] == 2, 'eventduration'].sum() / trial_data_nofirst['eventduration'].sum()),\n",
    "                                                   index=np.ones(1)*t) \n",
    "            krajbich2011_prep_nofirst_list.append(trial_data_prep_nofirst)\n",
    "        \n",
    "    del subject_data, trial_data, trial_data_prep_all, trial_data_prep_nofirst\n",
    "\n",
    "krajbich2011_prep_all = pd.concat(krajbich2011_prep_all_list).reset_index(drop=True)\n",
    "del krajbich2011_prep_all_list\n",
    "krajbich2011_prep_nofirst = pd.concat(krajbich2011_prep_nofirst_list).reset_index(drop=True)\n",
    "del krajbich2011_prep_nofirst_list\n",
    "\n",
    "krajbich2011_prep_nofirst.dropna(inplace=True) # remove trials without gaze data\n",
    "krajbich2011_prep_all.to_csv(join('data', 'krajbich_2011_pnas', 'krajbich2011_prep_all.csv'), index=False)\n",
    "krajbich2011_prep_nofirst.to_csv(join('data', 'krajbich_2011_pnas', 'krajbich2011_prep_nofirst.csv'), index=False)"
   ]
  },
  {
   "cell_type": "markdown",
   "metadata": {},
   "source": [
    "# Folke 2016\n",
    "\n",
    "Data obtained from https://github.com/BDMLab/Folke_De_Martino_NHB_2016_Github\n",
    "\n",
    "## Experiment 2\n",
    "\n",
    "This is data from a 3-alternative forced choice task, where participants made choices between snack foods, and eye movements were recorded. The data set only includes aggregated gaze data on the trial level, no individual fixation data. Therefore for this data set an analysis without the first fixation is not possible."
   ]
  },
  {
   "cell_type": "code",
   "execution_count": 5,
   "metadata": {},
   "outputs": [],
   "source": [
    "folke2016_raw = pd.read_csv('data/folke_2016_nhb/original/exp2_main_data.csv')\n",
    "\n",
    "folke2016_prep = folke2016_raw.rename({'Participant':'subject',\n",
    "                                       'Value_Position_1': 'item_value_0',\n",
    "                                       'Value_Position_2': 'item_value_1',\n",
    "                                       'Value_Position_3': 'item_value_2',\n",
    "                                       'DT_Position_1': 'dwell_0',\n",
    "                                       'DT_Position_2': 'dwell_1',\n",
    "                                       'DT_Position_3': 'dwell_2',\n",
    "                                       'Chosen_Position': 'choice',\n",
    "                                       'Choice_RT': 'rt'},\n",
    "                                      axis='columns')\n",
    "\n",
    "# Convert choice to zero-based indexing\n",
    "folke2016_prep['choice'] = folke2016_prep['choice'] - 1 \n",
    "\n",
    "# Convert subject to consecutive 0 based index\n",
    "for s, subject in enumerate(folke2016_prep['subject'].unique()):\n",
    "    folke2016_prep.loc[folke2016_prep['subject'] == subject, 'subject'] = s\n",
    "\n",
    "# Add trial variable\n",
    "folke2016_prep['trial'] = 0\n",
    "for subject in folke2016_prep['subject'].unique():\n",
    "    n_trials = folke2016_prep[folke2016_prep['subject'] == subject].shape[0]\n",
    "    folke2016_prep.loc[folke2016_prep['subject'] == subject, 'trial'] = np.arange(n_trials)\n",
    "\n",
    "# Scale values to a range between 1 and 10\n",
    "n_items = 3\n",
    "item_values = folke2016_prep[['item_value_{}'.format(i)\n",
    "                             for i in range(n_items)]].values\n",
    "scaled_values = scale(item_values, a=1, b=10)\n",
    "for i in range(n_items):\n",
    "    folke2016_prep['item_value_{}'.format(i)] = scaled_values[:, i]\n",
    "\n",
    "# Compute gaze\n",
    "dwells = folke2016_prep[['dwell_0', 'dwell_1', 'dwell_2']].values\n",
    "gaze = dwells / dwells.sum(axis=1, keepdims=True)\n",
    "for i in range(n_items):\n",
    "    folke2016_prep['gaze_{}'.format(i)] = gaze[:, i]\n",
    "\n",
    "# Reduce to only needed columns\n",
    "folke2016_prep = folke2016_prep[['subject', 'trial',\n",
    "                                 'choice', 'rt',\n",
    "                                 'item_value_0', 'item_value_1', 'item_value_2',\n",
    "                                 'gaze_0', 'gaze_1', 'gaze_2'\n",
    "                                 ]].copy()\n",
    "\n",
    "folke2016_prep.to_csv(join('data', 'folke_2016_nhb', 'folke2016_prep_all.csv'), index=False)"
   ]
  },
  {
   "cell_type": "markdown",
   "metadata": {},
   "source": [
    "# Tavares 2017\n",
    "\n",
    "- Paper: https://www.frontiersin.org/articles/10.3389/fnins.2017.00468/full  \n",
    "- Data obtained from: http://www.rnl.caltech.edu/publications/index.html\n",
    "\n",
    "## Experiment 1\n",
    "\n",
    "This is data from a 2-alternative forced choice task, where participants made perceptual choices about which of 2 line segments was more similar to a given template."
   ]
  },
  {
   "cell_type": "code",
   "execution_count": 6,
   "metadata": {},
   "outputs": [
    {
     "data": {
      "application/vnd.jupyter.widget-view+json": {
       "model_id": "7af3a1221bfa40e08ccf92420731f8d3",
       "version_major": 2,
       "version_minor": 0
      },
      "text/plain": [
       "HBox(children=(IntProgress(value=1, bar_style='info', max=1), HTML(value='')))"
      ]
     },
     "metadata": {},
     "output_type": "display_data"
    },
    {
     "name": "stderr",
     "output_type": "stream",
     "text": [
      "/Users/felixmolter/anaconda3/lib/python3.6/site-packages/ipykernel_launcher.py:52: RuntimeWarning: invalid value encountered in double_scalars\n",
      "/Users/felixmolter/anaconda3/lib/python3.6/site-packages/ipykernel_launcher.py:53: RuntimeWarning: invalid value encountered in double_scalars\n"
     ]
    },
    {
     "name": "stdout",
     "output_type": "stream",
     "text": [
      "\n"
     ]
    }
   ],
   "source": [
    "tavares2017_trials_raw = pd.read_csv(join('data', 'tavares_2017_fns', 'original', 'expdata.csv'))\n",
    "tavares2017_fixations_raw = pd.read_csv('data/tavares_2017_fns/original/fixations.csv')\n",
    "\n",
    "tavares2017_trials = tavares2017_trials_raw.rename({'parcode': 'subject',\n",
    "                                                    'item_left': 'item_value_0',\n",
    "                                                    'item_right': 'item_value_1'},\n",
    "                                                    axis='columns')\n",
    "tavares2017_trials.drop('valid', axis=1, inplace=True)\n",
    "\n",
    "# Recode choice variable (note that this is not documented well, could be the other way around.)\n",
    "tavares2017_trials['choice'].replace({1: 1, -1: 0}, inplace=True)\n",
    "\n",
    "# Scale item values\n",
    "n_items = 2\n",
    "item_values = tavares2017_trials[['item_value_{}'.format(i)\n",
    "                                  for i in range(n_items)]].values\n",
    "## Convert to absolute values, since we don't care about direction of tilt, but absolute discrepancy to template\n",
    "item_values = np.abs(item_values)\n",
    "\n",
    "scaled_values = scale(item_values, 1, 10)\n",
    "for i in range(n_items):\n",
    "    tavares2017_trials['item_value_{}'.format(i)] = 11 - scaled_values[:, i]\n",
    "\n",
    "# Compute gaze for each trial\n",
    "## Drop fixations that are not to item 1 or 2\n",
    "tavares2017_fixations_all = tavares2017_fixations_raw[tavares2017_fixations_raw['fix_item'].isin([1, 2])].copy()\n",
    "tavares2017_fixations_all = tavares2017_fixations_all.rename({'parcode': 'subject',\n",
    "                                                              'fix_item': 'fixation_position',\n",
    "                                                              'fix_time': 'fixation_duration'},\n",
    "                                                             axis='columns').reset_index(drop=True)\n",
    "tavares2017_fixations_nofirst = tavares2017_fixations_all.groupby(['subject', 'trial']).apply(lambda trialdata: trialdata.iloc[1:]).reset_index(drop=True)\n",
    "\n",
    "for s, subject_code in tqdm(enumerate(tavares2017_trials['subject'].unique())):\n",
    "    subject_data_all = tavares2017_fixations_all[tavares2017_fixations_all['subject'] == subject_code].copy()\n",
    "    subject_data_nofirst = tavares2017_fixations_nofirst[tavares2017_fixations_nofirst['subject'] == subject_code].copy()\n",
    "    for t, trial in enumerate(subject_data_all['trial'].unique()):\n",
    "        # All fixations\n",
    "        trial_data_all = subject_data_all[subject_data_all['trial'] == trial].copy()\n",
    "        trial_dwell_all = trial_data_all['fixation_duration'].sum()\n",
    "        dwell_0_all = trial_data_all[trial_data_all['fixation_position'] == 1]['fixation_duration'].sum()\n",
    "        dwell_1_all = trial_data_all[trial_data_all['fixation_position'] == 2]['fixation_duration'].sum()\n",
    "        gaze_0_all = dwell_0_all / trial_dwell_all\n",
    "        gaze_1_all = dwell_1_all / trial_dwell_all\n",
    "        tavares2017_trials.loc[(tavares2017_trials['subject'] == subject_code) & (tavares2017_trials['trial'] == trial), 'gaze_0_all'] = gaze_0_all\n",
    "        tavares2017_trials.loc[(tavares2017_trials['subject'] == subject_code) & (tavares2017_trials['trial'] == trial), 'gaze_1_all'] = gaze_1_all\n",
    "    \n",
    "        # Without first fixation\n",
    "        trial_data_nofirst = subject_data_nofirst[subject_data_nofirst['trial'] == trial].copy()\n",
    "        trial_dwell_nofirst = trial_data_nofirst['fixation_duration'].sum()\n",
    "        dwell_0_nofirst = trial_data_nofirst[trial_data_nofirst['fixation_position'] == 1]['fixation_duration'].sum()\n",
    "        dwell_1_nofirst = trial_data_nofirst[trial_data_nofirst['fixation_position'] == 2]['fixation_duration'].sum()\n",
    "        gaze_0_nofirst = dwell_0_nofirst / trial_dwell_nofirst\n",
    "        gaze_1_nofirst = dwell_1_nofirst / trial_dwell_nofirst\n",
    "        tavares2017_trials.loc[(tavares2017_trials['subject'] == subject_code) & (tavares2017_trials['trial'] == trial), 'gaze_0_nofirst'] = gaze_0_nofirst\n",
    "        tavares2017_trials.loc[(tavares2017_trials['subject'] == subject_code) & (tavares2017_trials['trial'] == trial), 'gaze_1_nofirst'] = gaze_1_nofirst\n",
    "\n",
    "tavares2017_prep_all = tavares2017_trials.rename({'gaze_0_all': 'gaze_0',\n",
    "                                                  'gaze_1_all': 'gaze_1',\n",
    "                                                  'gaze_2_all': 'gaze_2'},\n",
    "                                                 axis='columns').drop(['gaze_0_nofirst', 'gaze_1_nofirst'], axis=1)\n",
    "tavares2017_prep_all.to_csv(join('data', 'tavares_2017_fns', 'tavares2017_prep_all.csv'), index=False)\n",
    "tavares2017_prep_nofirst = tavares2017_trials.rename({'gaze_0_nofirst': 'gaze_0',\n",
    "                                                      'gaze_1_nofirst': 'gaze_1',\n",
    "                                                      'gaze_2_nofirst': 'gaze_2'},\n",
    "                                                     axis='columns').drop(['gaze_0_all', 'gaze_1_all'], axis=1)\n",
    "tavares2017_prep_nofirst.dropna(inplace=True) # remove trials without gaze data\n",
    "tavares2017_prep_nofirst.to_csv(join('data', 'tavares_2017_fns', 'tavares2017_prep_nofirst.csv'), index=False)"
   ]
  },
  {
   "cell_type": "markdown",
   "metadata": {},
   "source": [
    "# Combine to single file"
   ]
  },
  {
   "cell_type": "code",
   "execution_count": 7,
   "metadata": {},
   "outputs": [
    {
     "name": "stderr",
     "output_type": "stream",
     "text": [
      "/Users/felixmolter/anaconda3/lib/python3.6/site-packages/ipykernel_launcher.py:29: FutureWarning: Sorting because non-concatenation axis is not aligned. A future version\n",
      "of pandas will change to not sort by default.\n",
      "\n",
      "To accept the future behavior, pass 'sort=True'.\n",
      "\n",
      "To retain the current behavior and silence the warning, pass sort=False\n",
      "\n",
      "/Users/felixmolter/anaconda3/lib/python3.6/site-packages/ipykernel_launcher.py:30: FutureWarning: Sorting because non-concatenation axis is not aligned. A future version\n",
      "of pandas will change to not sort by default.\n",
      "\n",
      "To accept the future behavior, pass 'sort=True'.\n",
      "\n",
      "To retain the current behavior and silence the warning, pass sort=False\n",
      "\n"
     ]
    }
   ],
   "source": [
    "krajbich2010_prep_all['dataset'] = 'krajbich2010'\n",
    "krajbich2010_prep_all['n_items'] = 2\n",
    "krajbich2010_prep_nofirst['dataset'] = 'krajbich2010'\n",
    "krajbich2010_prep_nofirst['n_items'] = 2\n",
    "n_subjects = krajbich2010_prep_all['subject'].unique().size\n",
    "\n",
    "krajbich2011_prep_all['dataset'] = 'krajbich2011'\n",
    "krajbich2011_prep_all['n_items'] = 3\n",
    "krajbich2011_prep_all['subject'] += n_subjects\n",
    "krajbich2011_prep_nofirst['dataset'] = 'krajbich2011'\n",
    "krajbich2011_prep_nofirst['n_items'] = 3\n",
    "krajbich2011_prep_nofirst['subject'] += n_subjects\n",
    "n_subjects += krajbich2011_prep_all['subject'].unique().size \n",
    "\n",
    "folke2016_prep['dataset'] = 'folke2016'\n",
    "folke2016_prep['n_items'] = 3\n",
    "folke2016_prep['subject'] += n_subjects\n",
    "n_subjects += folke2016_prep['subject'].unique().size\n",
    "\n",
    "tavares2017_prep_all['dataset'] = 'tavares2017'\n",
    "tavares2017_prep_all['n_items'] = 2\n",
    "tavares2017_prep_all['subject'] += n_subjects\n",
    "tavares2017_prep_nofirst['dataset'] = 'tavares2017'\n",
    "tavares2017_prep_nofirst['n_items'] = 2\n",
    "tavares2017_prep_nofirst['subject'] += n_subjects - folke2016_prep['subject'].unique().size # (Folke is skipped in nofirst analyses)\n",
    "\n",
    "variables = ['subject', 'trial', 'rt', 'choice', 'item_value_0', 'item_value_1', 'item_value_2', 'gaze_0', 'gaze_1', 'gaze_2', 'n_items', 'dataset']\n",
    "\n",
    "combined_all = pd.concat([krajbich2010_prep_all, krajbich2011_prep_all, folke2016_prep, tavares2017_prep_all])[variables]\n",
    "combined_nofirst = pd.concat([krajbich2010_prep_nofirst, krajbich2011_prep_nofirst, tavares2017_prep_nofirst])[variables]\n",
    "\n",
    "combined_all.to_csv(join('data', 'data_all.csv'), index=False)\n",
    "combined_nofirst.to_csv(join('data', 'data_nofirst.csv'), index=False)"
   ]
  },
  {
   "cell_type": "code",
   "execution_count": 8,
   "metadata": {},
   "outputs": [
    {
     "name": "stdout",
     "output_type": "stream",
     "text": [
      "Full data set contains 118 participants.\n",
      "Data set without first fixations contains 94 participants.\n"
     ]
    }
   ],
   "source": [
    "print('Full data set contains {} participants.'.format(combined_all['subject'].unique().size))\n",
    "print('Data set without first fixations contains {} participants.'.format(combined_nofirst['subject'].unique().size))"
   ]
  }
 ],
 "metadata": {
  "kernelspec": {
   "display_name": "Python 3",
   "language": "python",
   "name": "python3"
  },
  "language_info": {
   "codemirror_mode": {
    "name": "ipython",
    "version": 3
   },
   "file_extension": ".py",
   "mimetype": "text/x-python",
   "name": "python",
   "nbconvert_exporter": "python",
   "pygments_lexer": "ipython3",
   "version": "3.6.5"
  }
 },
 "nbformat": 4,
 "nbformat_minor": 2
}
