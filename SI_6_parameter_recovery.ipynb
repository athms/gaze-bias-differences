{
 "cells": [
  {
   "cell_type": "code",
   "execution_count": 1,
   "metadata": {},
   "outputs": [
    {
     "name": "stderr",
     "output_type": "stream",
     "text": [
      "/Users/felixmolter/anaconda3/lib/python3.6/site-packages/h5py/__init__.py:36: FutureWarning: Conversion of the second argument of issubdtype from `float` to `np.floating` is deprecated. In future, it will be treated as `np.float64 == np.dtype(float).type`.\n",
      "  from ._conv import register_converters as _register_converters\n"
     ]
    }
   ],
   "source": [
    "%load_ext autoreload\n",
    "%autoreload 2\n",
    "\n",
    "import numpy as np\n",
    "import pandas as pd\n",
    "import os\n",
    "from bambi import Model\n",
    "\n",
    "import matplotlib.pyplot as plt\n",
    "import matplotlib.patches as mpatches\n",
    "%matplotlib inline\n",
    "from glam.plots import plot_correlation"
   ]
  },
  {
   "cell_type": "code",
   "execution_count": 2,
   "metadata": {},
   "outputs": [],
   "source": [
    "# load parameter recovery results:\n",
    "recovery_dir = os.path.join('results', 'parameter_recovery')\n",
    "files = [file for file in os.listdir(recovery_dir)\n",
    "         if file.endswith('.csv')]\n",
    "\n",
    "results = []\n",
    "\n",
    "parameters = ['v', 'gamma', 's', 'tau']\n",
    "\n",
    "dataset = np.array(39 * ['krajbich2010'] + 30 * ['krajbich2011'] + 24 * ['folke2016'] + 25 * ['tavares2017'])\n",
    "\n",
    "for file in files:\n",
    "    _, _, subject, _, _ = file.split('_')\n",
    "    subject = int(subject)\n",
    "    result = pd.read_csv(os.path.join(recovery_dir, file), index_col=0)\n",
    "    results.append(pd.DataFrame(dict(subject=np.ones(len(parameters)).astype(int) * subject,\n",
    "                                     dataset=[dataset[subject]] * len(parameters),\n",
    "                                     parameter=parameters,\n",
    "                                     generating=result.loc[[parameter + '__0_0'\n",
    "                                                            for parameter in parameters],\n",
    "                                                           'generating'],\n",
    "                                     recovered=result.loc[[parameter + '__0_0'\n",
    "                                                           for parameter in parameters],\n",
    "                                                          'MAP']\n",
    "                                    )\n",
    "                               )\n",
    "                  )\n",
    "\n",
    "results = pd.concat(results).sort_values(['subject', 'parameter']).reset_index(drop=True)"
   ]
  },
  {
   "cell_type": "code",
   "execution_count": 3,
   "metadata": {},
   "outputs": [
    {
     "data": {
      "text/html": [
       "<div>\n",
       "<style scoped>\n",
       "    .dataframe tbody tr th:only-of-type {\n",
       "        vertical-align: middle;\n",
       "    }\n",
       "\n",
       "    .dataframe tbody tr th {\n",
       "        vertical-align: top;\n",
       "    }\n",
       "\n",
       "    .dataframe thead th {\n",
       "        text-align: right;\n",
       "    }\n",
       "</style>\n",
       "<table border=\"1\" class=\"dataframe\">\n",
       "  <thead>\n",
       "    <tr style=\"text-align: right;\">\n",
       "      <th></th>\n",
       "      <th>subject</th>\n",
       "      <th>dataset</th>\n",
       "      <th>parameter</th>\n",
       "      <th>generating</th>\n",
       "      <th>recovered</th>\n",
       "    </tr>\n",
       "  </thead>\n",
       "  <tbody>\n",
       "    <tr>\n",
       "      <th>0</th>\n",
       "      <td>0</td>\n",
       "      <td>krajbich2010</td>\n",
       "      <td>gamma</td>\n",
       "      <td>0.790000</td>\n",
       "      <td>0.980000</td>\n",
       "    </tr>\n",
       "    <tr>\n",
       "      <th>1</th>\n",
       "      <td>0</td>\n",
       "      <td>krajbich2010</td>\n",
       "      <td>s</td>\n",
       "      <td>0.010750</td>\n",
       "      <td>0.010854</td>\n",
       "    </tr>\n",
       "    <tr>\n",
       "      <th>2</th>\n",
       "      <td>0</td>\n",
       "      <td>krajbich2010</td>\n",
       "      <td>tau</td>\n",
       "      <td>0.490000</td>\n",
       "      <td>0.810000</td>\n",
       "    </tr>\n",
       "    <tr>\n",
       "      <th>3</th>\n",
       "      <td>0</td>\n",
       "      <td>krajbich2010</td>\n",
       "      <td>v</td>\n",
       "      <td>0.000084</td>\n",
       "      <td>0.000074</td>\n",
       "    </tr>\n",
       "    <tr>\n",
       "      <th>4</th>\n",
       "      <td>1</td>\n",
       "      <td>krajbich2010</td>\n",
       "      <td>gamma</td>\n",
       "      <td>-0.130000</td>\n",
       "      <td>0.280000</td>\n",
       "    </tr>\n",
       "  </tbody>\n",
       "</table>\n",
       "</div>"
      ],
      "text/plain": [
       "   subject       dataset parameter  generating  recovered\n",
       "0        0  krajbich2010     gamma    0.790000   0.980000\n",
       "1        0  krajbich2010         s    0.010750   0.010854\n",
       "2        0  krajbich2010       tau    0.490000   0.810000\n",
       "3        0  krajbich2010         v    0.000084   0.000074\n",
       "4        1  krajbich2010     gamma   -0.130000   0.280000"
      ]
     },
     "execution_count": 3,
     "metadata": {},
     "output_type": "execute_result"
    }
   ],
   "source": [
    "results.head()"
   ]
  },
  {
   "cell_type": "code",
   "execution_count": 4,
   "metadata": {},
   "outputs": [],
   "source": [
    "def figure_si_6(results, figsize=(7.5, 2.), colors=None, fontsize=8, plot_legend=False):\n",
    "\n",
    "    datasets = ['krajbich2010', 'krajbich2011', 'folke2016', 'tavares2017']\n",
    "\n",
    "    if colors is None:\n",
    "        colors = np.array(['C{}'.format(i)\n",
    "                           for i in range(results['dataset'].unique().size)])\n",
    "\n",
    "    parameters = ['v', 'gamma', 's', 'tau']\n",
    "    parameter_labels = [r'$v$', r'$\\gamma$', r'$\\sigma$', r'$\\tau$']\n",
    "    parameter_limits = [(0, 0.000225), (-1.5, 1.25), (0, 0.0225), (0, 5.5)]\n",
    "    parameter_ticks = [[0, 0.0001, 0.0002], [-1, 0, 1], [0, 0.01, 0.02], [0, 1, 2, 3, 4, 5]]\n",
    "    fig, axs = plt.subplots(1, 4, figsize=figsize)\n",
    "\n",
    "    for p, (parameter, label, limits, ticks) in enumerate(zip(parameters, \n",
    "                                                              parameter_labels,\n",
    "                                                              parameter_limits,\n",
    "                                                              parameter_ticks)):\n",
    "        results_parameter = results.loc[results['parameter'] == parameter]\n",
    "\n",
    "        color_idx = pd.Categorical(results_parameter['dataset'], categories=datasets, ordered=True).codes.astype(int)\n",
    "\n",
    "        axs[p].scatter(results_parameter['generating'],\n",
    "                       results_parameter['recovered'],\n",
    "                       color=colors[color_idx],\n",
    "                       marker='+')\n",
    "        axs[p].set_xlim(limits)\n",
    "        axs[p].set_ylim(limits)\n",
    "        axs[p].set_title(label, fontsize=fontsize)\n",
    "        axs[p].set_xlabel('Generating', fontsize=fontsize)\n",
    "        axs[p].set_ylabel('Recovered', fontsize=fontsize)\n",
    "        axs[p].set_xticks(ticks)\n",
    "        axs[p].set_yticks(ticks)\n",
    "\n",
    "    if plot_legend:\n",
    "        patches = [mpatches.Rectangle((0, 0), 0.5, 1, fc=\"C{}\".format(i))\n",
    "                   for i in range(len(datasets))]\n",
    "        axs[0].legend(patches,\n",
    "                      ['Krajbich 2010', 'Krajbich 2011', 'Folke 2016', 'Tavares 2017'],\n",
    "                      loc='upper left',\n",
    "                      handlelength=1, handleheight=1,\n",
    "                      fontsize=6,\n",
    "                      frameon=False)\n",
    "\n",
    "    # Labels\n",
    "    for ax in axs.ravel():\n",
    "        ax.spines['top'].set_visible(False)\n",
    "        ax.spines['right'].set_visible(False)\n",
    "\n",
    "        # Font sizes\n",
    "        ax.tick_params(axis='both', labelsize=8)\n",
    "\n",
    "        # Plot diagonal\n",
    "        ax.plot(ax.get_xlim(), ax.get_xlim(), color='black', alpha=1, linewidth=1, zorder=-1)\n",
    "\n",
    "    fig.tight_layout()\n",
    "\n",
    "    return fig, axs\n"
   ]
  },
  {
   "cell_type": "code",
   "execution_count": 5,
   "metadata": {
    "scrolled": true
   },
   "outputs": [
    {
     "data": {
      "image/png": "[encoded data removed]",
      "text/plain": [
       "<Figure size 540x144 with 4 Axes>"
      ]
     },
     "metadata": {},
     "output_type": "display_data"
    }
   ],
   "source": [
    "figure_si_6(results);\n",
    "plt.savefig('results/figures/si_figure_6_parameter_recovery.png', dpi=330, bbox_inches='tight')\n",
    "plt.show()"
   ]
  },
  {
   "cell_type": "markdown",
   "metadata": {},
   "source": [
    "# Bias Analyses"
   ]
  },
  {
   "cell_type": "code",
   "execution_count": 6,
   "metadata": {},
   "outputs": [
    {
     "data": {
      "text/html": [
       "<div>\n",
       "<style scoped>\n",
       "    .dataframe tbody tr th:only-of-type {\n",
       "        vertical-align: middle;\n",
       "    }\n",
       "\n",
       "    .dataframe tbody tr th {\n",
       "        vertical-align: top;\n",
       "    }\n",
       "\n",
       "    .dataframe thead th {\n",
       "        text-align: right;\n",
       "    }\n",
       "</style>\n",
       "<table border=\"1\" class=\"dataframe\">\n",
       "  <thead>\n",
       "    <tr style=\"text-align: right;\">\n",
       "      <th></th>\n",
       "      <th>subject</th>\n",
       "      <th>dataset</th>\n",
       "      <th>parameter</th>\n",
       "      <th>type</th>\n",
       "      <th>value</th>\n",
       "      <th>is_recovered</th>\n",
       "    </tr>\n",
       "  </thead>\n",
       "  <tbody>\n",
       "    <tr>\n",
       "      <th>0</th>\n",
       "      <td>0</td>\n",
       "      <td>krajbich2010</td>\n",
       "      <td>gamma</td>\n",
       "      <td>generating</td>\n",
       "      <td>0.790000</td>\n",
       "      <td>0.0</td>\n",
       "    </tr>\n",
       "    <tr>\n",
       "      <th>1</th>\n",
       "      <td>0</td>\n",
       "      <td>krajbich2010</td>\n",
       "      <td>gamma</td>\n",
       "      <td>recovered</td>\n",
       "      <td>0.980000</td>\n",
       "      <td>1.0</td>\n",
       "    </tr>\n",
       "    <tr>\n",
       "      <th>2</th>\n",
       "      <td>0</td>\n",
       "      <td>krajbich2010</td>\n",
       "      <td>s</td>\n",
       "      <td>generating</td>\n",
       "      <td>0.010750</td>\n",
       "      <td>0.0</td>\n",
       "    </tr>\n",
       "    <tr>\n",
       "      <th>3</th>\n",
       "      <td>0</td>\n",
       "      <td>krajbich2010</td>\n",
       "      <td>s</td>\n",
       "      <td>recovered</td>\n",
       "      <td>0.010854</td>\n",
       "      <td>1.0</td>\n",
       "    </tr>\n",
       "    <tr>\n",
       "      <th>4</th>\n",
       "      <td>0</td>\n",
       "      <td>krajbich2010</td>\n",
       "      <td>tau</td>\n",
       "      <td>generating</td>\n",
       "      <td>0.490000</td>\n",
       "      <td>0.0</td>\n",
       "    </tr>\n",
       "  </tbody>\n",
       "</table>\n",
       "</div>"
      ],
      "text/plain": [
       "   subject       dataset parameter        type     value  is_recovered\n",
       "0        0  krajbich2010     gamma  generating  0.790000           0.0\n",
       "1        0  krajbich2010     gamma   recovered  0.980000           1.0\n",
       "2        0  krajbich2010         s  generating  0.010750           0.0\n",
       "3        0  krajbich2010         s   recovered  0.010854           1.0\n",
       "4        0  krajbich2010       tau  generating  0.490000           0.0"
      ]
     },
     "execution_count": 6,
     "metadata": {},
     "output_type": "execute_result"
    }
   ],
   "source": [
    "df = results.melt(id_vars=['subject', 'dataset', 'parameter'], value_vars=['generating', 'recovered'], var_name='type').sort_values(['subject', 'parameter']).reset_index(drop=True)\n",
    "df['is_recovered'] = (df['type'] == 'recovered').astype(float)\n",
    "df.head()"
   ]
  },
  {
   "cell_type": "code",
   "execution_count": 7,
   "metadata": {},
   "outputs": [],
   "source": [
    "from pymc3 import plot_posterior"
   ]
  },
  {
   "cell_type": "code",
   "execution_count": 8,
   "metadata": {
    "scrolled": false
   },
   "outputs": [
    {
     "name": "stdout",
     "output_type": "stream",
     "text": [
      "v\n"
     ]
    },
    {
     "name": "stderr",
     "output_type": "stream",
     "text": [
      "/Users/felixmolter/anaconda3/lib/python3.6/site-packages/pandas/core/generic.py:4384: FutureWarning: Attribute 'is_copy' is deprecated and will be removed in a future version.\n",
      "  object.__getattribute__(self, name)\n",
      "/Users/felixmolter/anaconda3/lib/python3.6/site-packages/pandas/core/generic.py:4385: FutureWarning: Attribute 'is_copy' is deprecated and will be removed in a future version.\n",
      "  return object.__setattr__(self, name, value)\n",
      "Auto-assigning NUTS sampler...\n",
      "Initializing NUTS using advi...\n",
      "Average Loss = 9,010.2: 100%|██████████| 50000/50000 [00:43<00:00, 1161.92it/s]   \n",
      "Finished [100%]: Average Loss = 8,998.8\n",
      "Multiprocess sampling (2 chains in 2 jobs)\n",
      "NUTS: [value_sd_interval__, is_recovered|dataset_offset, is_recovered|dataset_sd_log__, 1|dataset_offset, 1|dataset_sd_log__, is_recovered, Intercept]\n",
      "100%|██████████| 30500/30500 [42:34<00:00, 11.94it/s]\n",
      "The number of effective samples is smaller than 25% for some parameters.\n"
     ]
    },
    {
     "data": {
      "image/png": "[encoded data removed]",
      "text/plain": [
       "<Figure size 432x288 with 1 Axes>"
      ]
     },
     "metadata": {},
     "output_type": "display_data"
    },
    {
     "name": "stdout",
     "output_type": "stream",
     "text": [
      "gamma\n"
     ]
    },
    {
     "name": "stderr",
     "output_type": "stream",
     "text": [
      "/Users/felixmolter/anaconda3/lib/python3.6/site-packages/pandas/core/generic.py:4384: FutureWarning: Attribute 'is_copy' is deprecated and will be removed in a future version.\n",
      "  object.__getattribute__(self, name)\n",
      "/Users/felixmolter/anaconda3/lib/python3.6/site-packages/pandas/core/generic.py:4385: FutureWarning: Attribute 'is_copy' is deprecated and will be removed in a future version.\n",
      "  return object.__setattr__(self, name, value)\n",
      "Auto-assigning NUTS sampler...\n",
      "Initializing NUTS using advi...\n",
      "Average Loss = 135.44:  36%|███▌      | 17881/50000 [00:15<00:27, 1155.19it/s]\n",
      "Convergence archived at 17900\n",
      "Interrupted at 17,899 [35%]: Average Loss = 601.03\n",
      "Multiprocess sampling (2 chains in 2 jobs)\n",
      "NUTS: [value_sd_interval__, is_recovered|dataset_offset, is_recovered|dataset_sd_log__, 1|dataset_offset, 1|dataset_sd_log__, is_recovered, Intercept]\n",
      "100%|██████████| 30500/30500 [02:52<00:00, 177.20it/s]\n",
      "There were 954 divergences after tuning. Increase `target_accept` or reparameterize.\n",
      "There were 177 divergences after tuning. Increase `target_accept` or reparameterize.\n",
      "The estimated number of effective samples is smaller than 200 for some parameters.\n"
     ]
    },
    {
     "data": {
      "image/png": "[encoded data removed]",
      "text/plain": [
       "<Figure size 432x288 with 1 Axes>"
      ]
     },
     "metadata": {},
     "output_type": "display_data"
    },
    {
     "name": "stdout",
     "output_type": "stream",
     "text": [
      "s\n"
     ]
    },
    {
     "name": "stderr",
     "output_type": "stream",
     "text": [
      "/Users/felixmolter/anaconda3/lib/python3.6/site-packages/pandas/core/generic.py:4384: FutureWarning: Attribute 'is_copy' is deprecated and will be removed in a future version.\n",
      "  object.__getattribute__(self, name)\n",
      "/Users/felixmolter/anaconda3/lib/python3.6/site-packages/pandas/core/generic.py:4385: FutureWarning: Attribute 'is_copy' is deprecated and will be removed in a future version.\n",
      "  return object.__setattr__(self, name, value)\n",
      "Auto-assigning NUTS sampler...\n",
      "Initializing NUTS using advi...\n",
      "Average Loss = -1,116:  92%|█████████▏| 45834/50000 [00:39<00:03, 1151.87it/s]    \n",
      "Convergence archived at 45900\n",
      "Interrupted at 45,899 [91%]: Average Loss = 3.4354e+06\n",
      "Multiprocess sampling (2 chains in 2 jobs)\n",
      "NUTS: [value_sd_interval__, is_recovered|dataset_offset, is_recovered|dataset_sd_log__, 1|dataset_offset, 1|dataset_sd_log__, is_recovered, Intercept]\n",
      "100%|██████████| 30500/30500 [13:46<00:00, 36.92it/s]\n",
      "There were 3 divergences after tuning. Increase `target_accept` or reparameterize.\n",
      "The acceptance probability does not match the target. It is 0.8827507988116942, but should be close to 0.8. Try to increase the number of tuning steps.\n",
      "There were 3 divergences after tuning. Increase `target_accept` or reparameterize.\n",
      "The acceptance probability does not match the target. It is 0.8834575468812179, but should be close to 0.8. Try to increase the number of tuning steps.\n",
      "The number of effective samples is smaller than 25% for some parameters.\n"
     ]
    },
    {
     "data": {
      "image/png": "[encoded data removed]",
      "text/plain": [
       "<Figure size 432x288 with 1 Axes>"
      ]
     },
     "metadata": {},
     "output_type": "display_data"
    },
    {
     "name": "stdout",
     "output_type": "stream",
     "text": [
      "tau\n"
     ]
    },
    {
     "name": "stderr",
     "output_type": "stream",
     "text": [
      "/Users/felixmolter/anaconda3/lib/python3.6/site-packages/pandas/core/generic.py:4384: FutureWarning: Attribute 'is_copy' is deprecated and will be removed in a future version.\n",
      "  object.__getattribute__(self, name)\n",
      "/Users/felixmolter/anaconda3/lib/python3.6/site-packages/pandas/core/generic.py:4385: FutureWarning: Attribute 'is_copy' is deprecated and will be removed in a future version.\n",
      "  return object.__setattr__(self, name, value)\n",
      "Auto-assigning NUTS sampler...\n",
      "Initializing NUTS using advi...\n",
      "Average Loss = 286.75:  29%|██▉       | 14524/50000 [00:12<00:30, 1164.98it/s]\n",
      "Convergence archived at 14600\n",
      "Interrupted at 14,599 [29%]: Average Loss = 535.6\n",
      "Multiprocess sampling (2 chains in 2 jobs)\n",
      "NUTS: [value_sd_interval__, is_recovered|dataset_offset, is_recovered|dataset_sd_log__, 1|dataset_offset, 1|dataset_sd_log__, is_recovered, Intercept]\n",
      "100%|██████████| 30500/30500 [04:39<00:00, 109.22it/s]\n",
      "There were 58 divergences after tuning. Increase `target_accept` or reparameterize.\n",
      "There were 52 divergences after tuning. Increase `target_accept` or reparameterize.\n",
      "The number of effective samples is smaller than 10% for some parameters.\n"
     ]
    },
    {
     "data": {
      "image/png": "[encoded data removed]",
      "text/plain": [
       "<Figure size 432x288 with 1 Axes>"
      ]
     },
     "metadata": {},
     "output_type": "display_data"
    }
   ],
   "source": [
    "bias_analysis_results = {}\n",
    "models = {}\n",
    "\n",
    "n_samples = 30000\n",
    "\n",
    "parameters = ['v', 'gamma', 's', 'tau']\n",
    "\n",
    "for parameter in parameters:\n",
    "    print(parameter)\n",
    "    \n",
    "    model = Model(df.loc[df['parameter'] == parameter].reset_index(drop=True).copy())\n",
    "    models[parameter] = model\n",
    "    result = model.fit('value ~ is_recovered',\n",
    "                       random=['is_recovered|dataset'],\n",
    "                       categorical=['dataset'],\n",
    "                       samples=n_samples,\n",
    "                       chains=2)\n",
    "    bias_analysis_results[parameter] = result\n",
    "    \n",
    "    plot_posterior(model.backend.trace,\n",
    "                   varnames=['is_recovered'],\n",
    "                   round_to=5,\n",
    "                   point_estimate='mode',\n",
    "                   ref_val=0)\n",
    "    plt.show()"
   ]
  },
  {
   "cell_type": "code",
   "execution_count": 9,
   "metadata": {},
   "outputs": [
    {
     "name": "stdout",
     "output_type": "stream",
     "text": [
      "\n",
      "\n",
      "v\n",
      "                                 mean        sd  hpd0.95_lower  hpd0.95_upper  \\\n",
      "is_recovered|dataset_sd  6.944117e-06  0.000008   2.424827e-10       0.000022   \n",
      "Intercept                6.495682e-05  0.000015   3.537772e-05       0.000096   \n",
      "is_recovered            -8.792129e-08  0.000006  -1.253942e-05       0.000012   \n",
      "1|dataset_sd             2.967314e-05  0.000011   1.235379e-05       0.000052   \n",
      "value_sd                 3.021681e-05  0.000001   2.752822e-05       0.000033   \n",
      "\n",
      "                         effective_n  gelman_rubin  \n",
      "is_recovered|dataset_sd        14226      0.999997  \n",
      "Intercept                      42190      0.999986  \n",
      "is_recovered                   33109      1.000066  \n",
      "1|dataset_sd                   40817      0.999985  \n",
      "value_sd                       46980      1.000127  \n",
      "\n",
      "\n",
      "\n",
      "\n",
      "\n",
      "\n",
      "gamma\n",
      "                             mean        sd  hpd0.95_lower  hpd0.95_upper  \\\n",
      "is_recovered|dataset_sd  0.085506  0.092726       0.000012       0.263656   \n",
      "Intercept                0.126600  0.104514      -0.074381       0.346949   \n",
      "is_recovered            -0.037240  0.080302      -0.184685       0.115449   \n",
      "1|dataset_sd             0.147913  0.106539       0.000162       0.367896   \n",
      "value_sd                 0.389765  0.011359       0.368211       0.406005   \n",
      "\n",
      "                         effective_n  gelman_rubin  \n",
      "is_recovered|dataset_sd         4584      1.000016  \n",
      "Intercept                        168      1.010195  \n",
      "is_recovered                    1492      1.000019  \n",
      "1|dataset_sd                     318      1.004397  \n",
      "value_sd                        3713      1.000136  \n",
      "\n",
      "\n",
      "\n",
      "\n",
      "\n",
      "\n",
      "s\n",
      "                             mean        sd  hpd0.95_lower  hpd0.95_upper  \\\n",
      "is_recovered|dataset_sd  0.000423  0.000530   2.066972e-08       0.001314   \n",
      "Intercept                0.008355  0.001115   6.100312e-03       0.010608   \n",
      "is_recovered            -0.000284  0.000393  -9.950114e-04       0.000463   \n",
      "1|dataset_sd             0.002330  0.000757   1.080936e-03       0.003848   \n",
      "value_sd                 0.001721  0.000080   1.564023e-03       0.001876   \n",
      "\n",
      "                         effective_n  gelman_rubin  \n",
      "is_recovered|dataset_sd        17364      0.999983  \n",
      "Intercept                      10231      0.999983  \n",
      "is_recovered                   25830      0.999991  \n",
      "1|dataset_sd                   16005      0.999984  \n",
      "value_sd                       56620      0.999983  \n",
      "\n",
      "\n",
      "\n",
      "\n",
      "\n",
      "\n",
      "tau\n",
      "                             mean        sd  hpd0.95_lower  hpd0.95_upper  \\\n",
      "is_recovered|dataset_sd  0.172462  0.193309       0.000004       0.543551   \n",
      "Intercept                0.932629  0.313541       0.309056       1.590224   \n",
      "is_recovered             0.042967  0.158512      -0.262084       0.344232   \n",
      "1|dataset_sd             0.631693  0.239339       0.255758       1.127030   \n",
      "value_sd                 0.743412  0.034497       0.677020       0.811911   \n",
      "\n",
      "                         effective_n  gelman_rubin  \n",
      "is_recovered|dataset_sd         4819      1.000062  \n",
      "Intercept                      10595      1.000050  \n",
      "is_recovered                    4243      1.000006  \n",
      "1|dataset_sd                   17285      1.000020  \n",
      "value_sd                       44038      1.000009  \n",
      "\n",
      "\n",
      "\n",
      "\n"
     ]
    }
   ],
   "source": [
    "for parameter in parameters:\n",
    "    print('\\n')\n",
    "    print(parameter)\n",
    "    print(bias_analysis_results[parameter].summary())\n",
    "    print('\\n')\n",
    "    print('\\n')"
   ]
  }
 ],
 "metadata": {
  "kernelspec": {
   "display_name": "Python 3",
   "language": "python",
   "name": "python3"
  },
  "language_info": {
   "codemirror_mode": {
    "name": "ipython",
    "version": 3
   },
   "file_extension": ".py",
   "mimetype": "text/x-python",
   "name": "python",
   "nbconvert_exporter": "python",
   "pygments_lexer": "ipython3",
   "version": "3.6.5"
  }
 },
 "nbformat": 4,
 "nbformat_minor": 2
}
